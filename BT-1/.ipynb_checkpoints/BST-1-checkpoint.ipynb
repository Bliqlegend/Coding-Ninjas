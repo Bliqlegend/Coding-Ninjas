{
 "cells": [
  {
   "cell_type": "code",
   "execution_count": 5,
   "id": "77b458bf",
   "metadata": {},
   "outputs": [],
   "source": [
    "class BST:\n",
    "    def __init__(self,data):\n",
    "        self.data = data\n",
    "        self.left = None\n",
    "        self.right = None\n",
    "        "
   ]
  },
  {
   "cell_type": "code",
   "execution_count": 12,
   "id": "64b428fb",
   "metadata": {},
   "outputs": [],
   "source": [
    "bst1 = BST(1)\n",
    "bst2 = BST(2)\n",
    "bst3 = BST(3)\n",
    "bst4 = BST(4)\n",
    "bst5 = BST(5)\n",
    "bst6 = BST(6)\n",
    "bst7 = BST(7)\n"
   ]
  },
  {
   "cell_type": "code",
   "execution_count": 13,
   "id": "886bc183",
   "metadata": {},
   "outputs": [],
   "source": [
    "bst1.left = bst2\n",
    "bst1.right = bst3\n",
    "bst2.left = bst4\n",
    "bst2.right = bst5\n",
    "bst5.left = bst6\n",
    "bst3.left = bst7"
   ]
  },
  {
   "cell_type": "code",
   "execution_count": 14,
   "id": "574a9a84",
   "metadata": {},
   "outputs": [],
   "source": [
    "def printTree(root):\n",
    "    if root == None:\n",
    "        return\n",
    "    print(root.data,end=':')\n",
    "    if root.left != None:\n",
    "        print(\"L\",root.left.data,end=',')\n",
    "    if root.right != None:\n",
    "        print(\"R\",root.right.data,end='')\n",
    "    print()\n",
    "    printTree(root.left)\n",
    "    printTree(root.right)\n"
   ]
  },
  {
   "cell_type": "code",
   "execution_count": 15,
   "id": "e542cb33",
   "metadata": {},
   "outputs": [
    {
     "name": "stdout",
     "output_type": "stream",
     "text": [
      "1:L 2,R 3\n",
      "2:L 4,R 5\n",
      "4:\n",
      "5:L 6,\n",
      "6:\n",
      "3:L 7,\n",
      "7:\n"
     ]
    }
   ],
   "source": [
    "printTree(bst1)"
   ]
  }
 ],
 "metadata": {
  "kernelspec": {
   "display_name": "Python 3",
   "language": "python",
   "name": "python3"
  },
  "language_info": {
   "codemirror_mode": {
    "name": "ipython",
    "version": 3
   },
   "file_extension": ".py",
   "mimetype": "text/x-python",
   "name": "python",
   "nbconvert_exporter": "python",
   "pygments_lexer": "ipython3",
   "version": "3.8.8"
  }
 },
 "nbformat": 4,
 "nbformat_minor": 5
}
