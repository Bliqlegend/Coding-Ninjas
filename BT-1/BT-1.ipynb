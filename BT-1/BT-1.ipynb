{
 "cells": [
  {
   "cell_type": "code",
   "execution_count": 18,
   "id": "04168613",
   "metadata": {},
   "outputs": [],
   "source": [
    "class BST:\n",
    "    def __init__(self,data):\n",
    "        self.data = data\n",
    "        self.left = None\n",
    "        self.right = None\n",
    "        "
   ]
  },
  {
   "cell_type": "code",
   "execution_count": 19,
   "id": "80f617c5",
   "metadata": {},
   "outputs": [],
   "source": [
    "bst1 = BST(1)\n",
    "bst2 = BST(2)\n",
    "bst3 = BST(3)\n"
   ]
  },
  {
   "cell_type": "code",
   "execution_count": 20,
   "id": "87ec3fff",
   "metadata": {},
   "outputs": [],
   "source": [
    "bst1.left = bst2\n",
    "bst1.right = bst3\n"
   ]
  },
  {
   "cell_type": "code",
   "execution_count": 21,
   "id": "15295bb8",
   "metadata": {},
   "outputs": [],
   "source": [
    "def printTree(root):\n",
    "    if root == None:\n",
    "        return\n",
    "    print(root.data,end=':')\n",
    "    if root.left != None:\n",
    "        print(\"L\",root.left.data,end=',')\n",
    "    if root.right != None:\n",
    "        print(\"R\",root.right.data,end='')\n",
    "    print()\n",
    "    printTree(root.left)\n",
    "    printTree(root.right)\n"
   ]
  },
  {
   "cell_type": "code",
   "execution_count": 22,
   "id": "a53b3e96",
   "metadata": {},
   "outputs": [
    {
     "name": "stdout",
     "output_type": "stream",
     "text": [
      "1:L 2,R 3\n",
      "2:\n",
      "3:\n"
     ]
    }
   ],
   "source": [
    "printTree(bst1)"
   ]
  },
  {
   "cell_type": "code",
   "execution_count": 31,
   "id": "6ac77346",
   "metadata": {},
   "outputs": [],
   "source": [
    "def getSum(sumi,root):\n",
    "    if root == None:\n",
    "        return 0\n",
    "    left = getSum(sumi,root.left)\n",
    "    right = getSum(sumi,root.right)\n",
    "    return root.data + left + right"
   ]
  },
  {
   "cell_type": "code",
   "execution_count": 32,
   "id": "ff0762dd",
   "metadata": {},
   "outputs": [
    {
     "name": "stdout",
     "output_type": "stream",
     "text": [
      "6\n"
     ]
    }
   ],
   "source": [
    "print(getSum(0,bst1))"
   ]
  },
  {
   "cell_type": "code",
   "execution_count": null,
   "id": "8888404b",
   "metadata": {},
   "outputs": [],
   "source": [
    "\n",
    "def preOrder(root):\n",
    "    # Your code goes here\n",
    "    if root == None:\n",
    "        return \n",
    "    print(root.data)\n",
    "    print(root.left.data)\n",
    "    print(root.right.data)\n",
    "    preOrder(root.left)\n",
    "    preOrder(root.right)\n",
    "    \n",
    "\n"
   ]
  },
  {
   "cell_type": "code",
   "execution_count": null,
   "id": "4b9adc32",
   "metadata": {},
   "outputs": [],
   "source": [
    "def postOrder(root):\n",
    "    #Your code goes here\n",
    "    if root == None:\n",
    "        return\n",
    "    postOrder(root.left)\n",
    "    postOrder(root.right)\n",
    "    print(root.data,end=' ')\n",
    "\n",
    "    `"
   ]
  },
  {
   "cell_type": "code",
   "execution_count": 1,
   "id": "a48b30fb",
   "metadata": {},
   "outputs": [],
   "source": [
    "def countNodesGreaterThanX(root, x):\n",
    "    if root == None:\n",
    "        return 0\n",
    "    leftChild = countNodesGreaterThanX(root.left, x)\n",
    "    rightChild = countNodesGreaterThanX(root.right, x)        \n",
    "    if root.data > x:\n",
    "        return 1 + leftChild + rightChild\n",
    "    return leftChild + rightChild\n",
    "\n",
    "def countNodesGreaterThanX(root, x):\n",
    "    if root is None:\n",
    "        return 0\n",
    "    count = 0\n",
    "    \n"
   ]
  },
  {
   "cell_type": "code",
   "execution_count": 2,
   "id": "05b628ec",
   "metadata": {},
   "outputs": [],
   "source": [
    "def height(root):\n",
    "    if root is None:\n",
    "        return 1\n",
    "    Cleft = height(root.left)\n",
    "    Cright = height(root.right)\n",
    "    return 1 + Cleft + Cright\n",
    "\n",
    "\n",
    "def height(root):\n",
    "    if root is None:\n",
    "        count = 0 \n",
    "    else:\n",
    "        count = 1\n",
    "    count += height(root.left)\n",
    "    return count"
   ]
  },
  {
   "cell_type": "code",
   "execution_count": 3,
   "id": "5c567222",
   "metadata": {},
   "outputs": [],
   "source": [
    "def leaf(root):\n",
    "    if root is None:\n",
    "        return 0\n",
    "    if root.left is None and root.right is None:\n",
    "        return 1\n",
    "    leftCheck = leaf(root.left)\n",
    "    rightCheck = leaf(root.right)\n",
    "    return leftCheck + rightCheck"
   ]
  },
  {
   "cell_type": "code",
   "execution_count": 4,
   "id": "0268a0ec",
   "metadata": {},
   "outputs": [],
   "source": [
    "# print at depth\n",
    "def pdk(root,k):\n",
    "    if root is None:\n",
    "        return\n",
    "    if k == 0:\n",
    "        print(root.data)\n",
    "        return\n",
    "    pdk(root.left,k-1)\n",
    "    pdk(root.right,k-1)\n",
    "    \n",
    "    \n",
    "def pdkD(root,k,d=0):\n",
    "    if root is None:\n",
    "        return\n",
    "    if k == d:\n",
    "        print(root.data)\n",
    "        return\n",
    "    pdkD(root.left,k,d+1)\n",
    "    pdkD(root.right,k,d+1)    \n",
    "    "
   ]
  },
  {
   "cell_type": "code",
   "execution_count": null,
   "id": "9bed6eae",
   "metadata": {},
   "outputs": [],
   "source": [
    "# replace node with depth\n",
    "def findDepth(root):\n",
    "    if root is None:\n",
    "        return 1\n",
    "    Cleft = height(root.left)\n",
    "    Cright = height(root.right)\n",
    "    return 1 + Cleft + Cright\n",
    "\n",
    "d = findDepth(root)\n",
    "\n",
    "def changeToDepthTree(root,av,d):\n",
    "    if root is None or av == d:\n",
    "        return\n",
    "    root.data = av\n",
    "    av+=1\n",
    "    changeToDepthTree(root.left,av,d)\n",
    "    changeToDepthTree(root.left,av,d)\n",
    "\n",
    "\n",
    "def changeToDepthTree(root, k=0) :\n",
    "    #Your code goes here\n",
    "    if root is None:\n",
    "        return\n",
    "    root.data = k\n",
    "    changeToDepthTree(root.left, k+1)\n",
    "    changeToDepthTree(root.right, k+1)\n",
    "    "
   ]
  },
  {
   "cell_type": "code",
   "execution_count": null,
   "id": "efda5b9d",
   "metadata": {},
   "outputs": [],
   "source": [
    "def isNodePresent(root, x):\n",
    "    # Write your code here.\n",
    "    if root is None:\n",
    "        return \n",
    "    if root.data == x:\n",
    "        return True\n",
    "    leftAnswer = isNodePresent(root.left,x)\n",
    "    rightAnswer = isNodePresent(root.right,x)\n",
    "    return leftAnswer or rightAnswer\n",
    "\n",
    "def isNodePresent(root,x):\n",
    "    if root is None:\n",
    "        return\n",
    "    elif root.data == x:\n",
    "        return True\n",
    "    else:\n",
    "        return isNodePresent(root.left,x) or isNodePresent(root.right,x)"
   ]
  },
  {
   "cell_type": "code",
   "execution_count": null,
   "id": "4df71acf",
   "metadata": {},
   "outputs": [],
   "source": [
    "def printNodesWithoutSibling(root) :\n",
    "    if root is None:\n",
    "        return\n",
    "    if root.left is None and root.right is not None:\n",
    "        print(root.right.data,end='')\n",
    "    elif root.right is None and root.left is not None:\n",
    "        print(root.left.data,end='')\n",
    "    printNodesWithoutSibling(root.left)\n",
    "    printNodesWithoutSibling(root.right)    "
   ]
  },
  {
   "cell_type": "code",
   "execution_count": 1,
   "id": "a4d01e54",
   "metadata": {},
   "outputs": [],
   "source": [
    "def removeLeaf(root):\n",
    "    if root is None:\n",
    "        return \n",
    "    if root.left is None and root.right is None:\n",
    "        return None\n",
    "    root.left = removeLeaf(root.left)\n",
    "    root.right = removeLeaf(root.right)    \n",
    "    return root"
   ]
  },
  {
   "cell_type": "code",
   "execution_count": null,
   "id": "c9f97d24",
   "metadata": {},
   "outputs": [],
   "source": [
    "def mirrorBinaryTree(root):\n",
    "    if root is None:\n",
    "        return None\n",
    "    mirrorBinaryTree(root.right) \n",
    "    mirrorBinaryTree(root.left)\n",
    "    root.left,root.right = root.right,root.left\n",
    "    return root"
   ]
  },
  {
   "cell_type": "code",
   "execution_count": null,
   "id": "8c9f50a6",
   "metadata": {},
   "outputs": [],
   "source": [
    "def height(root):\n",
    "    if root is None:\n",
    "        return\n",
    "    leftH = height(root.left)\n",
    "    rightH = height(root.right)\n",
    "    return 1 + max(leftH,rightH)\n",
    "\n",
    "def isBalanced(root):\n",
    "    if root is None:\n",
    "        return\n",
    "    lh = height(root.left)\n",
    "    rh = height(root.right)\n",
    "    if lh - rh > 1 and rh - lh > 1:\n",
    "        return False\n",
    "    isleftBalanced = isBalanced(root.left)\n",
    "    isrightBalanced = isBalanced(root.right)\n",
    "    return isleftBalanced and isrightBalanced"
   ]
  },
  {
   "cell_type": "code",
   "execution_count": null,
   "id": "2ae3e305",
   "metadata": {},
   "outputs": [],
   "source": [
    "def HisBalanced(root):\n",
    "    if root is None:\n",
    "        return\n",
    "    lh , lBalanced = HisBalanced(root.left)\n",
    "    rh , rBalanced = HisBalanced(root.right)\n",
    "    h = 1 + max(lh,rh)\n",
    "    if lBalanced and Rbalanced:\n",
    "        return 1,True\n",
    "    else:\n",
    "        return 0,False"
   ]
  },
  {
   "cell_type": "code",
   "execution_count": null,
   "id": "ebd603e9",
   "metadata": {},
   "outputs": [],
   "source": [
    "def height(root):\n",
    "    if root is None:\n",
    "        return 0\n",
    "    lh = height(root.left)\n",
    "    rh = height(root.right)\n",
    "    return 1 + max(lh,rh)\n",
    "\n",
    "\n",
    "def diameterOfBinaryTree(root) :\n",
    "    if root is None:\n",
    "        return 0\n",
    "    lh = height(root.left)\n",
    "    rh = height(root.right)\n",
    "\n",
    "    ld = diameterOfBinaryTree(root.left)\n",
    "    rd = diameterOfBinaryTree(root.right)\n",
    "    \n",
    "    return max(1 + lh + rh, max(ld,rd))\n"
   ]
  },
  {
   "cell_type": "code",
   "execution_count": null,
   "id": "dabe525e",
   "metadata": {},
   "outputs": [],
   "source": [
    "def diameterOfBinaryTree(root):\n",
    "    if root is None:\n",
    "        return 0,0\n",
    "    lh,ld = diameterOfBinaryTree(root.left)\n",
    "    rh,rd = diameterOfBinaryTree(root.right)\n",
    "    \n",
    "    return 1 + max(lh,rh) , max(1 + lh + rh, max(ld,rd))"
   ]
  },
  {
   "cell_type": "code",
   "execution_count": null,
   "id": "49056679",
   "metadata": {},
   "outputs": [],
   "source": []
  }
 ],
 "metadata": {
  "kernelspec": {
   "display_name": "Python 3",
   "language": "python",
   "name": "python3"
  },
  "language_info": {
   "codemirror_mode": {
    "name": "ipython",
    "version": 3
   },
   "file_extension": ".py",
   "mimetype": "text/x-python",
   "name": "python",
   "nbconvert_exporter": "python",
   "pygments_lexer": "ipython3",
   "version": "3.8.8"
  }
 },
 "nbformat": 4,
 "nbformat_minor": 5
}
