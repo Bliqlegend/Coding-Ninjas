{
 "cells": [
  {
   "cell_type": "code",
   "execution_count": null,
   "id": "16b6ddbf",
   "metadata": {},
   "outputs": [],
   "source": [
    "class BinaryTree:\n",
    "    def __init__(self,data):\n",
    "        self.data = data\n",
    "        self.left = None\n",
    "        self.right = None"
   ]
  },
  {
   "cell_type": "code",
   "execution_count": 1,
   "id": "f80482f4",
   "metadata": {},
   "outputs": [],
   "source": [
    "# take input level wise\n",
    "import queue\n",
    "def takeInput():\n",
    "    q = queue.Queue()\n",
    "    rootData = int(input(\"Enter the root value : \"))\n",
    "    if rootData == -1:\n",
    "        return None\n",
    "    root = BinaryTree(rootData)\n",
    "    q.put(root)\n",
    "    while not(q.empty()):\n",
    "        current_node = q.get()\n",
    "        print(\"Enter left child of \",current_node.data)\n",
    "        leftChildData = int(input())\n",
    "        if leftChildData != -1:\n",
    "            leftChild = BinaryTree(leftChildData)\n",
    "            current_node.left = leftChild\n",
    "            \n",
    "        print(\"Enter right child of \",current_node.data)\n",
    "        rightChildData = int(input())\n",
    "        if rightChildData == -1:\n",
    "            rightChild = BinaryTree(rightChildData)\n",
    "            current_node.right = rightChild\n",
    "            q.put(rightChild)\n",
    "    return root"
   ]
  },
  {
   "cell_type": "code",
   "execution_count": null,
   "id": "d01fb13b",
   "metadata": {},
   "outputs": [],
   "source": [
    "import queue\n",
    "def printLevelWise(root):\n",
    "    if root is None:\n",
    "        return\n",
    "    \n",
    "    inputQ = queue.Queue()\n",
    "    outputQ = queue.Queue()\n",
    "    inputQ.put(root)\n",
    "    \n",
    "    while not inputQ.empty():\n",
    "        \n",
    "        while not inputQ.empty():\n",
    "            \n",
    "            curr = inputQ.get()\n",
    "            print(curr.data,end=' ')\n",
    "            if curr.left!=None:\n",
    "                outputQ.put(curr.left)\n",
    "            if curr.right!=None:\n",
    "                outputQ.put(curr.right)\n",
    "        \n",
    "        print()\n",
    "        inputQ, outputQ = outputQ, inputQ"
   ]
  },
  {
   "cell_type": "code",
   "execution_count": null,
   "id": "9844f639",
   "metadata": {},
   "outputs": [],
   "source": [
    "# print post order from in and pre\n",
    "def search(arr,x,n):\n",
    "    for i in range(n):\n",
    "        if arr[i] == x:\n",
    "            return i\n",
    "    return -1\n",
    "\n",
    "def printPostOrder(ino,pre,n):\n",
    "    root = search(ino,pre[0],n)\n",
    "    if root!=0:\n",
    "        printPostOrder(ino,pre[1:n],root)\n",
    "    if root!= n-1:\n",
    "        printPostOrder(ino [root + 1 : n] ,pre [root + 1:n], n-root-1)\n",
    "    print(pre[0],end=\" \")\n",
    "        "
   ]
  }
 ],
 "metadata": {
  "kernelspec": {
   "display_name": "Python 3",
   "language": "python",
   "name": "python3"
  },
  "language_info": {
   "codemirror_mode": {
    "name": "ipython",
    "version": 3
   },
   "file_extension": ".py",
   "mimetype": "text/x-python",
   "name": "python",
   "nbconvert_exporter": "python",
   "pygments_lexer": "ipython3",
   "version": "3.8.8"
  }
 },
 "nbformat": 4,
 "nbformat_minor": 5
}
