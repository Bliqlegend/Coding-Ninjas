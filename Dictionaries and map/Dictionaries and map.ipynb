{
 "cells": [
  {
   "cell_type": "code",
   "execution_count": 3,
   "id": "02e7b173",
   "metadata": {},
   "outputs": [],
   "source": [
    "def maxfreq(arr):\n",
    "    d = {}\n",
    "    for i in arr:\n",
    "        d[i] = d.get(i,0) + 1\n",
    "    maxFreq = 0\n",
    "    maxVal = 0\n",
    "    for w in d:\n",
    "        if d.get(w) > maxFreq:\n",
    "            maxFreq = d.get(w)\n",
    "            maxVal = w\n",
    "    return maxVal"
   ]
  },
  {
   "cell_type": "code",
   "execution_count": 4,
   "id": "82cea024",
   "metadata": {},
   "outputs": [
    {
     "name": "stdout",
     "output_type": "stream",
     "text": [
      "2 12 2 11 12 2 1 2 2 11 12 2 6\n",
      "2\n"
     ]
    }
   ],
   "source": [
    "arr = list(map(int,input().split()))\n",
    "maxval = maxfreq(arr)\n",
    "print(maxval)"
   ]
  },
  {
   "cell_type": "code",
   "execution_count": null,
   "id": "3b27fcc0",
   "metadata": {},
   "outputs": [],
   "source": [
    "def pairSum0(l,n):\n",
    "    d = {}\n",
    "    for i in arr:\n",
    "        d[i] = d.get(i,0) + 1\n",
    "    count = 0 \n",
    "    for i in d:\n",
    "        if -i in d:\n",
    "            mini = min(d.get(i),d.get(-i))\n",
    "            count+=(2*mini)\n",
    "            d[i] = 0\n",
    "            d[-i] = 0\n",
    "        if i == 0:\n",
    "            if d.get(i)>1:\n",
    "                count+=(2*d.get(i))\n",
    "    return count"
   ]
  },
  {
   "cell_type": "code",
   "execution_count": null,
   "id": "8f4ad33d",
   "metadata": {},
   "outputs": [],
   "source": [
    "class mapNode:\n",
    "    def __init__(self,key,value):\n",
    "        self.key = key\n",
    "        self.value = value\n",
    "        self.next= None\n",
    "        \n",
    "class Map\n",
    "    def __init__(self):\n",
    "        self.bucketSize = 10\n",
    "        self.bucket = [None for i in range(self.bucketSize)]\n",
    "        self.count = 0\n",
    "    \n",
    "    def size(self):\n",
    "        return self.count\n",
    "    \n",
    "    def getBucketIndex(self,hc):\n",
    "        return (abs(hc) % (self.bucketSize))\n",
    "    \n",
    "    def getValue(self,key):\n",
    "        hc = hash(key)\n",
    "        index = self.getBucketIndex(hc)\n",
    "        head = self.bucket[index]\n",
    "        while head is not None:\n",
    "            if head.key ==  key:\n",
    "                return head.value\n",
    "            head = head.next\n",
    "        return None\n",
    "    \n",
    "    def remove(self,key):\n",
    "        hc = hash(key)\n",
    "        index = self.getBucketIndex(hc)\n",
    "        head = self.buckets(index)\n",
    "        prev = None \n",
    "        while head is not None:\n",
    "            if head.key == key:\n",
    "                if prev is None:\n",
    "                    self.buckets[index] = head.next\n",
    "                else:\n",
    "                    prev.next = head.next\n",
    "                return head.value\n",
    "            prev =  head\n",
    "            head = head.next\n",
    "        return None\n",
    "     \n",
    "    def insert(self,key,value):\n",
    "        hc = hash(key)\n",
    "        index = self.getBucketIndex(hc)\n",
    "        head = self.bucket[index]\n",
    "        while head is not None:\n",
    "            if head.key ==key:\n",
    "                head.value = value\n",
    "                return\n",
    "            head =head.next\n",
    "        newNode= mapNode(key,value)\n",
    "        newNode.next = head\n",
    "        self.bucket[index] = newNode\n",
    "        self.count+=1"
   ]
  }
 ],
 "metadata": {
  "kernelspec": {
   "display_name": "Python 3",
   "language": "python",
   "name": "python3"
  },
  "language_info": {
   "codemirror_mode": {
    "name": "ipython",
    "version": 3
   },
   "file_extension": ".py",
   "mimetype": "text/x-python",
   "name": "python",
   "nbconvert_exporter": "python",
   "pygments_lexer": "ipython3",
   "version": "3.8.8"
  }
 },
 "nbformat": 4,
 "nbformat_minor": 5
}
