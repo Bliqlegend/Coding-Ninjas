{
 "cells": [
  {
   "cell_type": "code",
   "execution_count": 3,
   "id": "02e7b173",
   "metadata": {},
   "outputs": [],
   "source": [
    "def maxfreq(arr):\n",
    "    d = {}\n",
    "    for i in arr:\n",
    "        d[i] = d.get(i,0) + 1\n",
    "    maxFreq = 0\n",
    "    maxVal = 0\n",
    "    for w in d:\n",
    "        if d.get(w) > maxFreq:\n",
    "            maxFreq = d.get(w)\n",
    "            maxVal = w\n",
    "    return maxVal"
   ]
  },
  {
   "cell_type": "code",
   "execution_count": 4,
   "id": "82cea024",
   "metadata": {},
   "outputs": [
    {
     "name": "stdout",
     "output_type": "stream",
     "text": [
      "2 12 2 11 12 2 1 2 2 11 12 2 6\n",
      "2\n"
     ]
    }
   ],
   "source": [
    "arr = list(map(int,input().split()))\n",
    "maxval = maxfreq(arr)\n",
    "print(maxval)"
   ]
  },
  {
   "cell_type": "code",
   "execution_count": null,
   "id": "3b27fcc0",
   "metadata": {},
   "outputs": [],
   "source": [
    "def pairSum0(l,n):\n",
    "    d = {}\n",
    "    for i in arr:\n",
    "        d[i] = d.get(i,0) + 1\n",
    "    count = 0 \n",
    "    for i in d:\n",
    "        if -i in d:\n",
    "            mini = min(d.get(i),d.get(-i))\n",
    "            count+=(2*mini)\n",
    "            d[i] = 0\n",
    "            d[-i] = 0\n",
    "        if i == 0:\n",
    "            if d.get(i)>1:\n",
    "                count+=(2*d.get(i))\n",
    "    return count"
   ]
  },
  {
   "cell_type": "code",
   "execution_count": null,
   "id": "8f4ad33d",
   "metadata": {},
   "outputs": [],
   "source": [
    "class mapNode:\n",
    "    def __init__(self,key,value):\n",
    "        self.key = key\n",
    "        self.value = value\n",
    "        self.next= None\n",
    "        \n",
    "class Map\n",
    "    def __init__(self):\n",
    "        self.bucketSize = 10\n",
    "        self.bucket = [None for i in range(self.bucketSize)]\n",
    "        self.count = 0\n",
    "    \n",
    "    def size(self):\n",
    "        return self.count\n",
    "    \n",
    "    def getBucketIndex(self,hc):\n",
    "        return (abs(hc) % (self.bucketSize))\n",
    "    def loadFactor(self):\n",
    "        return self.count/self.bucketSize\n",
    "    \n",
    "    def getValue(self,key):\n",
    "        hc = hash(key)\n",
    "        index = getBucketIndex(hc)\n",
    "        head = self.buckets[index]\n",
    "        while head is not None:\n",
    "            if head.key == key:\n",
    "                 return head.value\n",
    "            head =  head.next\n",
    "        return None\n",
    "     \n",
    "    def remove(self,key):\n",
    "        hc = hash(key)\n",
    "        index = self.getBucketIndex(hc)\n",
    "        head = self.bucket[index]\n",
    "        prev = None\n",
    "        while head is not None:\n",
    "            if head.key == key:\n",
    "                if prev is None:\n",
    "                    index = head.next\n",
    "                else:\n",
    "                    prev.next= head.next\n",
    "                self.count-=1\n",
    "                return head.value\n",
    "            prev = head\n",
    "            head = head.next\n",
    "        \n",
    "        return None\n",
    "    \n",
    "    def rehash(self):\n",
    "        temp = self.buckets\n",
    "        self.buckets = [None for i in range(2*self.bucketSize)]\n",
    "        self.bucketSize = 2*self.bucketSize\n",
    "        self.count = 0\n",
    "        \n",
    "#         insert\n",
    "        for head in temp:\n",
    "            while head is not None:\n",
    "                self.insert(head.key,head.value)\n",
    "                head = head.next\n",
    "\n",
    "    def insert(self,key,value):\n",
    "        hc = hash(key)\n",
    "        index = self.getBucketIndex(hc)\n",
    "        head = self.bucket[index]\n",
    "        while head is not None:\n",
    "            if head.key ==key:\n",
    "                head.value = value\n",
    "                return\n",
    "            head =head.next\n",
    "        head = self.buckets[index]\n",
    "        newNode= mapNode(key,value)\n",
    "        newNode.next = head\n",
    "        self.bucket[index] = newNode\n",
    "        self.count+=1\n",
    "        if self.loadFactor >= 0.7:\n",
    "            self.reshash()"
   ]
  },
  {
   "cell_type": "code",
   "execution_count": 7,
   "id": "d08683c8",
   "metadata": {},
   "outputs": [],
   "source": [
    "def uniqueChar(s):\n",
    "    d = {}\n",
    "    for w in s:\n",
    "        d[w] = d.get(w,0) + 1\n",
    "    n = []\n",
    "    for key in d:\n",
    "        if d.get(key) == 1:\n",
    "               n.append(key)\n",
    "    newS = ''.join(n)\n",
    "    return newS\n"
   ]
  },
  {
   "cell_type": "code",
   "execution_count": 8,
   "id": "bf584b7b",
   "metadata": {},
   "outputs": [
    {
     "name": "stdout",
     "output_type": "stream",
     "text": [
      "codgjas\n"
     ]
    }
   ],
   "source": [
    "s = \"codingninjas\"\n",
    "print(uniqueChar(s))    "
   ]
  },
  {
   "cell_type": "code",
   "execution_count": null,
   "id": "ef9df39a",
   "metadata": {},
   "outputs": [],
   "source": [
    "def longestConsecutiveSubsequence(arr,n): \n",
    "    # Write your code here\n",
    "    s =  set()\n",
    "    ans = 0\n",
    "    start = 0\n",
    "    for ele in arr:\n",
    "        s.add(ele)\n",
    "    for i in range(n):\n",
    "        if (arr[i]-1) not in s:\n",
    "            j = arr[i]\n",
    "            while j in s:\n",
    "                j = j+1\n",
    "            if j-arr[i] > ans:\n",
    "                ans = j-arr[i]\n",
    "                start = arr[i]\n",
    "    return start , start +(ans-1)\n",
    "            "
   ]
  },
  {
   "cell_type": "code",
   "execution_count": 1,
   "id": "49e0110a",
   "metadata": {},
   "outputs": [],
   "source": [
    "def printPairDiffK(l, k):\n",
    "    d = {}\n",
    "    count = 0\n",
    "    for num in l:\n",
    "        match = abs(k - num)\n",
    "        if match in d:\n",
    "            count+=1\n",
    "            d[num] = True\n",
    "        else:\n",
    "            d[num] = True\n",
    "    return count\n"
   ]
  },
  {
   "cell_type": "code",
   "execution_count": null,
   "id": "c19a87d4",
   "metadata": {},
   "outputs": [],
   "source": [
    "def longestConsecutiveSubsequence(arr,n):\n",
    "    # mark each true\n",
    "    d = {}\n",
    "    for i in arr:\n",
    "        d[i] = True\n",
    "    maxL = 0\n",
    "    tempL = 0\n",
    "    tempArr = []\n",
    "    maxArr = []\n",
    "    #left check\n",
    "    for key in d:\n",
    "        tempKey = key\n",
    "        tempArr.append(key)\n",
    "        num = tempkey - 1\n",
    "        while num is in d:\n",
    "            d[num] = False\n",
    "            tempKey-=1\n",
    "            tempL+=1\n",
    "            tempArr.append(num)\n",
    "        tempKey = key\n",
    "        num = tempKey + 1\n",
    "        while num is in d:\n",
    "            d[num] = False\n",
    "            tempKey+=1\n",
    "            tempL+=1\n",
    "            tempArr.append(key)\n",
    "        if tempL > maxL:\n",
    "            maxL = tempL\n",
    "            maxArr = tempArr\n",
    "    return maxArr\n"
   ]
  },
  {
   "cell_type": "code",
   "execution_count": 10,
   "id": "02de1092",
   "metadata": {},
   "outputs": [
    {
     "name": "stdout",
     "output_type": "stream",
     "text": [
      "5\n"
     ]
    }
   ],
   "source": [
    "def subsetSum(l):\n",
    "    # make K-V pair\n",
    "    i = -1\n",
    "    sumL = 0\n",
    "    d = {}\n",
    "    maxL = 0\n",
    "    d[sumL] = i\n",
    "    while i < len(l)-1:\n",
    "        i+=1\n",
    "        sumL+=l[i]\n",
    "        \n",
    "        if sumL not in d:\n",
    "            d[sumL] = i\n",
    "        else:\n",
    "            length = i - d.get(sumL)\n",
    "            if length > maxL:\n",
    "                maxL = length\n",
    "    return maxL\n",
    "        \n",
    "l = [2,-2,0,-2,2]\n",
    "print(subsetSum(l))"
   ]
  },
  {
   "cell_type": "code",
   "execution_count": null,
   "id": "9af26fda",
   "metadata": {},
   "outputs": [],
   "source": [
    "{}"
   ]
  }
 ],
 "metadata": {
  "kernelspec": {
   "display_name": "Python 3",
   "language": "python",
   "name": "python3"
  },
  "language_info": {
   "codemirror_mode": {
    "name": "ipython",
    "version": 3
   },
   "file_extension": ".py",
   "mimetype": "text/x-python",
   "name": "python",
   "nbconvert_exporter": "python",
   "pygments_lexer": "ipython3",
   "version": "3.8.8"
  }
 },
 "nbformat": 4,
 "nbformat_minor": 5
}
