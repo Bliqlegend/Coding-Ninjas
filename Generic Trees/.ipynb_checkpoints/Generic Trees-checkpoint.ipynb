{
 "cells": [
  {
   "cell_type": "code",
   "execution_count": null,
   "id": "7c9c211e",
   "metadata": {},
   "outputs": [],
   "source": [
    "class TreeNode:\n",
    "    def __init__(self,data):\n",
    "        self.data = data\n",
    "        self.children = list()"
   ]
  },
  {
   "cell_type": "code",
   "execution_count": null,
   "id": "edb445e6",
   "metadata": {},
   "outputs": [],
   "source": [
    "def printTree(root):\n",
    "    if root is None:\n",
    "        return\n",
    "    print(root.data)\n",
    "    for child in root.children:\n",
    "        printTree(child)"
   ]
  },
  {
   "cell_type": "code",
   "execution_count": null,
   "id": "fc07e5ff",
   "metadata": {},
   "outputs": [],
   "source": [
    "def printTreeDetailed(root):\n",
    "    if root is None:\n",
    "        return \n",
    "    print(root.data,\":\",end='')\n",
    "    for child in root.children:\n",
    "        print(child.data,\",\",end=\"\")\n",
    "    print()\n",
    "    for child in root.children:\n",
    "        printTreeDetailed(child)"
   ]
  },
  {
   "cell_type": "code",
   "execution_count": null,
   "id": "631b468c",
   "metadata": {},
   "outputs": [],
   "source": [
    "def takeInput():\n",
    "    rootVar = int(input(\"Enter root value: \"))\n",
    "    if rootVar == -1:\n",
    "        return None\n",
    "    root = TreeNode(rootVar)\n",
    "    childCount = int(input(r\"Enter number of child for {rootVar}\"))\n",
    "    for i in range(childCount):\n",
    "        child = takeInput()\n",
    "        root.children.append(child)\n",
    "    return root"
   ]
  },
  {
   "cell_type": "code",
   "execution_count": null,
   "id": "85df9add",
   "metadata": {},
   "outputs": [],
   "source": [
    "def numberOfNodes(root):\n",
    "    if root is None:\n",
    "        return 0\n",
    "    else:\n",
    "        return 1  \n",
    "    count = 0\n",
    "    for child in root.children:\n",
    "        count+= numberOfNodes(child)\n",
    "    return count"
   ]
  },
  {
   "cell_type": "code",
   "execution_count": null,
   "id": "02ad8eb1",
   "metadata": {},
   "outputs": [],
   "source": [
    "def sumOfAllNodes(root) :\n",
    "    if root is None:\n",
    "        return sys.maxsize-1\n",
    "    sum = 0\n",
    "    for child in root.children:\n",
    "        sum+= sumOfAllNodes(child)\n",
    "    return root.data + sum"
   ]
  },
  {
   "cell_type": "code",
   "execution_count": null,
   "id": "ce9f65d8",
   "metadata": {},
   "outputs": [],
   "source": [
    "def maxDataNode(root):\n",
    "    if root==None:\n",
    "        return None\n",
    "    MaxVar=root\n",
    "    for child in root.children:\n",
    "        newData = maxDataNode(child)\n",
    "        if newData.data > MaxVar.data:\n",
    "            MaxVar=newData\n",
    "    return MaxVar"
   ]
  },
  {
   "cell_type": "code",
   "execution_count": null,
   "id": "aa4c126e",
   "metadata": {},
   "outputs": [],
   "source": [
    "def height(root):\n",
    "    if root is None:\n",
    "        return\n",
    "    h = 1 + childHeight\n",
    "    for child in root.children:\n",
    "        childHeight = height(child)\n",
    "    return h"
   ]
  },
  {
   "cell_type": "code",
   "execution_count": null,
   "id": "2bbe9813",
   "metadata": {},
   "outputs": [],
   "source": [
    "import queue\n",
    "def takeTreeInputLevelWise():\n",
    "    q = queue.Queue()\n",
    "    print(\"Enter root\")\n",
    "    rootData = int(input())\n",
    "    if rootData == -1:\n",
    "        return None\n",
    "    root = TreeNode(rootData)\n",
    "    q.put(root)\n",
    "    while (not(q.empty())):\n",
    "        current_node = q.get()\n",
    "        print(\"Enter num of children for  \",current_node.data)\n",
    "        numOfChildren = int(input())\n",
    "        for i in range(numOfChildren):\n",
    "            print(\"Enter next child for \",current_node.data)\n",
    "            childData = int(input())\n",
    "            child = TreeNode(childData)\n",
    "            current_node.children.append(child)\n",
    "            q.put(child)\n",
    "    return root\n",
    "        \n",
    "        \n",
    "        \n",
    "        \n",
    "        \n",
    "        \n",
    "        "
   ]
  },
  {
   "cell_type": "code",
   "execution_count": null,
   "id": "bfde6965",
   "metadata": {},
   "outputs": [],
   "source": [
    "import queue\n",
    "def printLevelWiseTree(root):\n",
    "    if root is None:\n",
    "        return\n",
    "    q = queue.Queue()\n",
    "    q.put(root)\n",
    "    while (not(q.empty())):\n",
    "        currentnode = q.get()\n",
    "        print(currenode.data,end=':')\n",
    "        c = 0 \n",
    "        for child in currentnode.children:\n",
    "            c+=1\n",
    "        count = 0\n",
    "        for child in currentnode.children:\n",
    "            count+=1\n",
    "            if count == c:\n",
    "                print(child.data,end=\"\")\n",
    "            else:\n",
    "                print(child.data,end=',')\n",
    "        print()\n",
    "        for child in currentnode.children:\n",
    "            q.put(child)\n",
    "        "
   ]
  },
  {
   "cell_type": "code",
   "execution_count": null,
   "id": "fdd085b1",
   "metadata": {},
   "outputs": [],
   "source": [
    "def containsX(root, x):\n",
    "    if root is None:\n",
    "        return False\n",
    "    for child in root.children:\n",
    "        if child.data == x:\n",
    "            return True\n",
    "        containsX(child)\n",
    "    return False\n",
    "    "
   ]
  },
  {
   "cell_type": "code",
   "execution_count": null,
   "id": "3aaeefc4",
   "metadata": {},
   "outputs": [],
   "source": [
    "def leafNodeCount(root):\n",
    "    if root is None:\n",
    "        return\n",
    "    if len(root.children) == 0:\n",
    "        return 1\n",
    "    count = 0 \n",
    "    for child in root.children:\n",
    "        count += leafNodeCount(child)\n",
    "    return count"
   ]
  },
  {
   "cell_type": "code",
   "execution_count": null,
   "id": "cc21fc1e",
   "metadata": {},
   "outputs": [],
   "source": [
    "class treeNode(self,data):\n",
    "    def __init__(self,data):\n",
    "        self.data=  data\n",
    "        self.children = list()\n",
    "    def sum(self):\n",
    "        ans = self.data\n",
    "        for child in self.children:\n",
    "            ans+= child.data\n",
    "        return sum\n",
    "    \n",
    "def maxSumNode(root):\n",
    "    if root is None:\n",
    "        return None\n",
    "    ans , ansSum = root, root.sum()\n",
    "    for child in root.children:\n",
    "        temp.tempSum = maxSumNode(child)\n",
    "        if tempSum > ansSum:\n",
    "            ansSum = tempSum\n",
    "            ans = temp\n",
    "    return ans,ansSum"
   ]
  },
  {
   "cell_type": "code",
   "execution_count": null,
   "id": "42fdeb36",
   "metadata": {},
   "outputs": [],
   "source": [
    "def isIdentical(tree1,tree2):\n",
    "    if tree1 is None and tree2 is None:\n",
    "        return True\n",
    "    if tree1.data != tree2.data:\n",
    "        return False\n",
    "    if len(tree1.children)!= len(tree2.children):\n",
    "        return False\n",
    "    for child1,child2 in zip(tree1.children,tree2.children):\n",
    "        response = isIdentical(child1,child2)\n",
    "        if not response:\n",
    "            return False\n",
    "    return True\n",
    "    "
   ]
  },
  {
   "cell_type": "code",
   "execution_count": null,
   "id": "dba7c7de",
   "metadata": {},
   "outputs": [],
   "source": [
    "def nextLargest(root, n):\n",
    "    if root==None:\n",
    "        return None\n",
    "    ans = None\n",
    "    for child in root.children:\n",
    "        temp = nextLargest(child,n)\n",
    "        if temp.data - n < ans.data - n:\n",
    "            ans = temp.data\n",
    "            return ans\n",
    "        elif temp.data - n > ans.data -n :\n",
    "            return ans"
   ]
  },
  {
   "cell_type": "code",
   "execution_count": null,
   "id": "de882614",
   "metadata": {},
   "outputs": [],
   "source": [
    "def findDepth(root):\n",
    "    if root is None:\n",
    "        return 1\n",
    "    depth = 1\n",
    "    for child in root.children:\n",
    "        depth+= findDepth(child)\n",
    "    return depth\n",
    "\n",
    "def replacewithDepth(root,pointer):\n",
    "    depth = findDepth(root)\n",
    "    q = [i for i in range(depth)]\n",
    "    if pointer > len(q):\n",
    "        return\n",
    "    root.data = q[pointer]\n",
    "    for child in root.children:\n",
    "        replacewithDepth(child,pointer+1)"
   ]
  }
 ],
 "metadata": {
  "kernelspec": {
   "display_name": "Python 3",
   "language": "python",
   "name": "python3"
  },
  "language_info": {
   "codemirror_mode": {
    "name": "ipython",
    "version": 3
   },
   "file_extension": ".py",
   "mimetype": "text/x-python",
   "name": "python",
   "nbconvert_exporter": "python",
   "pygments_lexer": "ipython3",
   "version": "3.8.8"
  }
 },
 "nbformat": 4,
 "nbformat_minor": 5
}
