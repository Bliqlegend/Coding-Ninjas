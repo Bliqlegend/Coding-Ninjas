{
 "cells": [
  {
   "cell_type": "code",
   "execution_count": 13,
   "id": "869bbdb7",
   "metadata": {},
   "outputs": [
    {
     "name": "stdout",
     "output_type": "stream",
     "text": [
      "4\n",
      "1 1 1 1\n",
      "1 0 1 1\n",
      "1 1 0 1\n",
      "1 1 1 1\n",
      "[[1, 0, 0, 0], [1, 0, 0, 0], [1, 0, 0, 0], [1, 1, 1, 1]]\n",
      "[[1, 0, 0, 0], [1, 0, 0, 0], [1, 1, 0, 0], [0, 1, 1, 1]]\n",
      "[[1, 1, 1, 0], [0, 0, 1, 1], [0, 0, 0, 1], [0, 0, 0, 1]]\n",
      "[[1, 1, 1, 1], [0, 0, 0, 1], [0, 0, 0, 1], [0, 0, 0, 1]]\n"
     ]
    }
   ],
   "source": [
    "def ppHelper(x,y,m,n,solution):\n",
    "    if x == n-1 and y == n-1:\n",
    "        solution[x][y] = 1\n",
    "        print(solution)\n",
    "        return\n",
    "    \n",
    "    if x < 0 or y < 0 or x >= n or y >=n or m[x][y] == 0 or solution[x][y] == 1:\n",
    "        return\n",
    "    \n",
    "    solution[x][y] = 1\n",
    "    ppHelper(x+1,y,m,n,solution)\n",
    "    ppHelper(x,y+1,m,n,solution)\n",
    "    ppHelper(x-1,y,m,n,solution)\n",
    "    ppHelper(x,y-1,m,n,solution)\n",
    "    solution[x][y] = 0\n",
    "    return\n",
    "    \n",
    "\n",
    "def pp(m):\n",
    "    n = len(m)\n",
    "    solution = [[0 for j in range(n)] for i in range(n)]\n",
    "    ppHelper(0,0,m,n,solution)\n",
    "    \n",
    "n = int(input())\n",
    "m = []\n",
    "for i in range(n):\n",
    "    row = [int(ele) for ele in input().split()]\n",
    "    m.append(row)\n",
    "    \n",
    "pp(m)"
   ]
  },
  {
   "cell_type": "code",
   "execution_count": null,
   "id": "db218394",
   "metadata": {},
   "outputs": [],
   "source": []
  }
 ],
 "metadata": {
  "kernelspec": {
   "display_name": "Python 3 (ipykernel)",
   "language": "python",
   "name": "python3"
  },
  "language_info": {
   "codemirror_mode": {
    "name": "ipython",
    "version": 3
   },
   "file_extension": ".py",
   "mimetype": "text/x-python",
   "name": "python",
   "nbconvert_exporter": "python",
   "pygments_lexer": "ipython3",
   "version": "3.9.7"
  }
 },
 "nbformat": 4,
 "nbformat_minor": 5
}
