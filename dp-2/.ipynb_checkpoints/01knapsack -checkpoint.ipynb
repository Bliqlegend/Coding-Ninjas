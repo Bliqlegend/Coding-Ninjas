{
 "cells": [
  {
   "cell_type": "code",
   "execution_count": 10,
   "id": "6031f6f2",
   "metadata": {},
   "outputs": [
    {
     "data": {
      "text/plain": [
       "3"
      ]
     },
     "execution_count": 10,
     "metadata": {},
     "output_type": "execute_result"
    }
   ],
   "source": [
    "#  recursive approach\n",
    "def knapsack(weights, values, n, maxWeight,i):\n",
    "    if i == n:\n",
    "        return 0\n",
    "    ans =0\n",
    "    if weights[i] <= maxWeight:\n",
    "        noninc = knapsack(weights,values,n,maxWeight,i+1)\n",
    "        inc = values[i] + knapsack(weights,values,n,maxWeight-weights[i],i+1)\n",
    "        ans = max(noninc,inc)\n",
    "    else:\n",
    "        ans = knapsack(weights,values,n,maxWeight,i+1)\n",
    "    return ans\n",
    "\n",
    "\n",
    "weights = [4,5,1]\n",
    "values = [1,2,3]\n",
    "maxWeight = 4\n",
    "n = 3\n",
    "ans = knapsack(weights,values,n,maxWeight,0)\n",
    "ans"
   ]
  },
  {
   "cell_type": "code",
   "execution_count": 11,
   "id": "8a4d6b5c",
   "metadata": {},
   "outputs": [
    {
     "ename": "UnboundLocalError",
     "evalue": "local variable 'noninc' referenced before assignment",
     "output_type": "error",
     "traceback": [
      "\u001b[1;31m---------------------------------------------------------------------------\u001b[0m",
      "\u001b[1;31mUnboundLocalError\u001b[0m                         Traceback (most recent call last)",
      "\u001b[1;32m~\\AppData\\Local\\Temp/ipykernel_12520/3561793383.py\u001b[0m in \u001b[0;36m<module>\u001b[1;34m\u001b[0m\n\u001b[0;32m     20\u001b[0m \u001b[0mdp\u001b[0m \u001b[1;33m=\u001b[0m \u001b[1;33m[\u001b[0m\u001b[1;33m[\u001b[0m\u001b[1;33m-\u001b[0m\u001b[1;36m1\u001b[0m \u001b[1;32mfor\u001b[0m \u001b[0mj\u001b[0m \u001b[1;32min\u001b[0m \u001b[0mrange\u001b[0m\u001b[1;33m(\u001b[0m\u001b[1;36m2\u001b[0m\u001b[1;33m)\u001b[0m\u001b[1;33m]\u001b[0m \u001b[1;32mfor\u001b[0m \u001b[0mi\u001b[0m \u001b[1;32min\u001b[0m \u001b[0mrange\u001b[0m\u001b[1;33m(\u001b[0m\u001b[0mn\u001b[0m\u001b[1;33m+\u001b[0m\u001b[1;36m1\u001b[0m\u001b[1;33m)\u001b[0m\u001b[1;33m]\u001b[0m\u001b[1;33m\u001b[0m\u001b[1;33m\u001b[0m\u001b[0m\n\u001b[0;32m     21\u001b[0m \u001b[0mn\u001b[0m \u001b[1;33m=\u001b[0m \u001b[1;36m3\u001b[0m\u001b[1;33m\u001b[0m\u001b[1;33m\u001b[0m\u001b[0m\n\u001b[1;32m---> 22\u001b[1;33m \u001b[0mans\u001b[0m \u001b[1;33m=\u001b[0m \u001b[0mknapsack\u001b[0m\u001b[1;33m(\u001b[0m\u001b[0mweights\u001b[0m\u001b[1;33m,\u001b[0m\u001b[0mvalues\u001b[0m\u001b[1;33m,\u001b[0m\u001b[0mn\u001b[0m\u001b[1;33m,\u001b[0m\u001b[0mmaxWeight\u001b[0m\u001b[1;33m,\u001b[0m\u001b[1;36m0\u001b[0m\u001b[1;33m,\u001b[0m\u001b[0mdp\u001b[0m\u001b[1;33m)\u001b[0m\u001b[1;33m\u001b[0m\u001b[1;33m\u001b[0m\u001b[0m\n\u001b[0m\u001b[0;32m     23\u001b[0m \u001b[0mdp\u001b[0m\u001b[1;33m\u001b[0m\u001b[1;33m\u001b[0m\u001b[0m\n",
      "\u001b[1;32m~\\AppData\\Local\\Temp/ipykernel_12520/3561793383.py\u001b[0m in \u001b[0;36mknapsack\u001b[1;34m(weights, values, n, maxWeight, i, dp)\u001b[0m\n\u001b[0;32m      9\u001b[0m             \u001b[0minc\u001b[0m \u001b[1;33m=\u001b[0m \u001b[0mvalues\u001b[0m\u001b[1;33m[\u001b[0m\u001b[0mi\u001b[0m\u001b[1;33m]\u001b[0m \u001b[1;33m+\u001b[0m \u001b[0mknapsack\u001b[0m\u001b[1;33m(\u001b[0m\u001b[0mweights\u001b[0m\u001b[1;33m,\u001b[0m\u001b[0mvalues\u001b[0m\u001b[1;33m,\u001b[0m\u001b[0mn\u001b[0m\u001b[1;33m,\u001b[0m\u001b[0mmaxWeight\u001b[0m\u001b[1;33m-\u001b[0m\u001b[0mweights\u001b[0m\u001b[1;33m[\u001b[0m\u001b[0mi\u001b[0m\u001b[1;33m]\u001b[0m\u001b[1;33m,\u001b[0m\u001b[0mi\u001b[0m\u001b[1;33m+\u001b[0m\u001b[1;36m1\u001b[0m\u001b[1;33m)\u001b[0m\u001b[1;33m\u001b[0m\u001b[1;33m\u001b[0m\u001b[0m\n\u001b[0;32m     10\u001b[0m             \u001b[0mdp\u001b[0m\u001b[1;33m\u001b[0m\u001b[1;33m\u001b[0m\u001b[0m\n\u001b[1;32m---> 11\u001b[1;33m         \u001b[0mans\u001b[0m \u001b[1;33m=\u001b[0m \u001b[0mmax\u001b[0m\u001b[1;33m(\u001b[0m\u001b[0mnoninc\u001b[0m\u001b[1;33m,\u001b[0m\u001b[0minc\u001b[0m\u001b[1;33m)\u001b[0m\u001b[1;33m\u001b[0m\u001b[1;33m\u001b[0m\u001b[0m\n\u001b[0m\u001b[0;32m     12\u001b[0m     \u001b[1;32melse\u001b[0m\u001b[1;33m:\u001b[0m\u001b[1;33m\u001b[0m\u001b[1;33m\u001b[0m\u001b[0m\n\u001b[0;32m     13\u001b[0m         \u001b[0mans\u001b[0m \u001b[1;33m=\u001b[0m \u001b[0mknapsack\u001b[0m\u001b[1;33m(\u001b[0m\u001b[0mweights\u001b[0m\u001b[1;33m,\u001b[0m\u001b[0mvalues\u001b[0m\u001b[1;33m,\u001b[0m\u001b[0mn\u001b[0m\u001b[1;33m,\u001b[0m\u001b[0mmaxWeight\u001b[0m\u001b[1;33m,\u001b[0m\u001b[0mi\u001b[0m\u001b[1;33m+\u001b[0m\u001b[1;36m1\u001b[0m\u001b[1;33m)\u001b[0m\u001b[1;33m\u001b[0m\u001b[1;33m\u001b[0m\u001b[0m\n",
      "\u001b[1;31mUnboundLocalError\u001b[0m: local variable 'noninc' referenced before assignment"
     ]
    }
   ],
   "source": [
    "#memoization\n",
    "def knapsack(weights, values, n, maxWeight,i,dp):\n",
    "    if i == n:\n",
    "        return 0\n",
    "    ans =0\n",
    "    if weights[i] <= maxWeight:\n",
    "        if dp[i+1] == -1:\n",
    "            noninc = knapsack(weights,values,n,maxWeight,i+1)\n",
    "            inc = values[i] + knapsack(weights,values,n,maxWeight-weights[i],i+1)\n",
    "            dp\n",
    "        ans = max(noninc,inc)\n",
    "    else:\n",
    "        ans = knapsack(weights,values,n,maxWeight,i+1)\n",
    "    return ans\n",
    "\n",
    "\n",
    "weights = [4,5,1]\n",
    "values = [1,2,3]\n",
    "maxWeight = 4\n",
    "dp = [[-1 fo ] for i in range(n+1)]\n",
    "n = 3\n",
    "ans = knapsack(weights,values,n,maxWeight,0,dp)\n",
    "ans"
   ]
  },
  {
   "cell_type": "code",
   "execution_count": 25,
   "id": "6125b5a1",
   "metadata": {},
   "outputs": [
    {
     "data": {
      "text/plain": [
       "60"
      ]
     },
     "execution_count": 25,
     "metadata": {},
     "output_type": "execute_result"
    }
   ],
   "source": [
    "# top down approach\n",
    "def knapsack(weights,values,n,maxWeight):\n",
    "    dp = [[0 for j in range(maxWeight+1)] for i in range(n+1)]\n",
    "    for i in range(1,n+1):\n",
    "        for j in range(1,maxWeight+1):\n",
    "            if j < weights[i-1]:\n",
    "                ans = dp[i-1][j]\n",
    "            else:\n",
    "                ans1 = dp[i-1][j]\n",
    "                ans2 = values[i-1] +dp[i-1][j-weights[i-1]]\n",
    "                ans = max(ans1,ans2)\n",
    "            dp[i][j] = ans\n",
    "\n",
    "    return dp[n][maxWeight]\n",
    "\n",
    "\n",
    "weights = [1,2,3,8,7,4]\n",
    "values = [20,5,10,40,15,25]\n",
    "maxWeight = 10\n",
    "n = 6\n",
    "ans = knapsack(weights,values,n,maxWeight)\n",
    "ans"
   ]
  },
  {
   "cell_type": "code",
   "execution_count": 2,
   "id": "9a5ea13b",
   "metadata": {},
   "outputs": [
    {
     "data": {
      "text/plain": [
       "[[0, 0, 0, 0, 0, 0, 0, 0, 0, 0, 0],\n",
       " [0, 0, 0, 0, 0, 0, 0, 0, 0, 0, 0],\n",
       " [0, 0, 0, 0, 0, 0, 0, 0, 0, 0, 0],\n",
       " [0, 0, 0, 0, 0, 0, 0, 0, 0, 0, 0],\n",
       " [0, 0, 0, 0, 0, 0, 0, 0, 0, 0, 0],\n",
       " [0, 0, 0, 0, 25, 25, 25, 25, 25, 25, 0],\n",
       " [0, 0, 0, 0, 0, 0, 0, 0, 0, 0, 0]]"
      ]
     },
     "execution_count": 2,
     "metadata": {},
     "output_type": "execute_result"
    }
   ],
   "source": [
    "# bottom up approach\n",
    "def knapsack(weights,values,n,maxWeight):\n",
    "    dp = [[0 for i in range(maxWeight+1)] for j in range(n+1)]\n",
    "    for i in range(n-1,-1,-1):\n",
    "        for j in range(maxWeight-1,-1,-1):\n",
    "            if j >= weights[i]:\n",
    "                ans1 = dp[i+1][j]\n",
    "                ans2 = values[i] + dp[i+1][j-weights[i]]\n",
    "                ans = max(ans1,ans2)\n",
    "            else:\n",
    "                ans = dp[i+1][j]\n",
    "            dp[i][j] = ans\n",
    "        return \n",
    "\n",
    "weights = [1,2,3,8,7,4]\n",
    "values = [20,5,10,40,15,25]\n",
    "maxWeight = 10\n",
    "n = 6\n",
    "ans = knapsack(weights,values,n,maxWeight)\n",
    "ans"
   ]
  },
  {
   "cell_type": "code",
   "execution_count": 2,
   "id": "26e6639e",
   "metadata": {},
   "outputs": [
    {
     "data": {
      "text/plain": [
       "150"
      ]
     },
     "execution_count": 2,
     "metadata": {},
     "output_type": "execute_result"
    }
   ],
   "source": [
    "3*4*5 + 3*5*6 "
   ]
  }
 ],
 "metadata": {
  "kernelspec": {
   "display_name": "Python 3 (ipykernel)",
   "language": "python",
   "name": "python3"
  },
  "language_info": {
   "codemirror_mode": {
    "name": "ipython",
    "version": 3
   },
   "file_extension": ".py",
   "mimetype": "text/x-python",
   "name": "python",
   "nbconvert_exporter": "python",
   "pygments_lexer": "ipython3",
   "version": "3.9.7"
  }
 },
 "nbformat": 4,
 "nbformat_minor": 5
}
