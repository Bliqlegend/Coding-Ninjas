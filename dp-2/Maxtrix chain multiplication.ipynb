{
 "cells": [
  {
   "cell_type": "code",
   "execution_count": 11,
   "id": "2021f169",
   "metadata": {},
   "outputs": [
    {
     "data": {
      "text/plain": [
       "8000"
      ]
     },
     "execution_count": 11,
     "metadata": {},
     "output_type": "execute_result"
    }
   ],
   "source": [
    "# recursion solution\n",
    "import sys\n",
    "def mcm(p,i,j):\n",
    "    if i == j:\n",
    "        return 0\n",
    "    overallMin = sys.maxsize\n",
    "    for k in range(i,j):\n",
    "        count = mcm(p,i,k) + mcm(p,k+1,j) + (p[i-1]*p[k]*p[j])\n",
    "        if count < overallMin:\n",
    "            overallMin = count\n",
    "    return overallMin\n",
    "\n",
    "p = [10,15,20,25]\n",
    "n = 3\n",
    "i = 0\n",
    "j = n-1\n",
    "ans = mcm(p,i,j)\n",
    "ans"
   ]
  },
  {
   "cell_type": "code",
   "execution_count": 14,
   "id": "92208cbf",
   "metadata": {},
   "outputs": [
    {
     "data": {
      "text/plain": [
       "8000"
      ]
     },
     "execution_count": 14,
     "metadata": {},
     "output_type": "execute_result"
    }
   ],
   "source": [
    "# memoization solution\n",
    "import sys\n",
    "def mcm(p,i,j,dp):\n",
    "    if i==j:\n",
    "        return 0\n",
    "    if dp[i][j] != -1:\n",
    "        return dp[i][j]\n",
    "    dp[i][j] = sys.maxsize\n",
    "    \n",
    "    for k in range(i,j):\n",
    "        dp[i][j] = min(dp[i][j] , mcm(p,i,k,dp) + mcm(p,k+1,j,dp)+ (p[i-1]*p[k]*p[j]))\n",
    "    return dp[i][j]\n",
    "\n",
    "\n",
    "p = [10,15,20,25]\n",
    "n = 3\n",
    "i = 0\n",
    "j = n-1\n",
    "dp = [[-1 for j in range(n+1)] for i in range(n+1)]\n",
    "ans = mcm(p,i,j,dp)\n",
    "ans"
   ]
  },
  {
   "cell_type": "code",
   "execution_count": null,
   "id": "65fdbf96",
   "metadata": {},
   "outputs": [],
   "source": []
  }
 ],
 "metadata": {
  "kernelspec": {
   "display_name": "Python 3 (ipykernel)",
   "language": "python",
   "name": "python3"
  },
  "language_info": {
   "codemirror_mode": {
    "name": "ipython",
    "version": 3
   },
   "file_extension": ".py",
   "mimetype": "text/x-python",
   "name": "python",
   "nbconvert_exporter": "python",
   "pygments_lexer": "ipython3",
   "version": "3.9.7"
  }
 },
 "nbformat": 4,
 "nbformat_minor": 5
}
