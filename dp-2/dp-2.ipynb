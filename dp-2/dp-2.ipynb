{
 "cells": [
  {
   "cell_type": "code",
   "execution_count": 31,
   "id": "ae49be6a",
   "metadata": {},
   "outputs": [
    {
     "data": {
      "text/plain": [
       "30"
      ]
     },
     "execution_count": 31,
     "metadata": {},
     "output_type": "execute_result"
    }
   ],
   "source": [
    "import sys\n",
    "def minCostPath(arr,i,j, mRows, nCols,dp) :\n",
    "    if i==mRows-1 and j==nCols-1:\n",
    "        return arr[i][j]\n",
    "    \n",
    "    if i>=mRows or j>=nCols:\n",
    "        return sys.maxsize\n",
    "    if dp[i+1][j] == -1:\n",
    "        ans1 = minCostPath(arr,i+1,j,mRows,nCols,dp)\n",
    "        dp[i+1][j] = ans1\n",
    "    else:\n",
    "        ans1 = dp[i+1][j]\n",
    "    if dp[i][j+1] == -1:\n",
    "        ans2 = minCostPath(arr,i,j+1,mRows,nCols,dp)\n",
    "        dp[i][j+1] = ans2 \n",
    "    else:\n",
    "        ans2 = dp[i][j+1]\n",
    "    if dp[i+1][j+1] == -1:\n",
    "        ans3 = minCostPath(arr,i+1,j+1,mRows,nCols,dp)\n",
    "        dp[i+1][j+1] = ans3\n",
    "    else:\n",
    "        ans3 = dp[i+1][j+1]\n",
    "    ans = arr[i][j] +  min(ans1,ans2,ans3)\n",
    "    return ans\n",
    "\n",
    "\n",
    "nCols = 3\n",
    "mRows = 4\n",
    "dp = [[-1 for i in range(nCols+1)] for i in range(mRows+1)]\n",
    "arr = [[1,5,11],[8,13,12],[2,3,7],[15,16,18]]\n",
    "ans = minCostPath(arr,0,0,mRows,nCols,dp)\n",
    "ans"
   ]
  },
  {
   "cell_type": "code",
   "execution_count": 36,
   "id": "cdc8ed5d",
   "metadata": {},
   "outputs": [
    {
     "data": {
      "text/plain": [
       "30"
      ]
     },
     "execution_count": 36,
     "metadata": {},
     "output_type": "execute_result"
    }
   ],
   "source": [
    "import sys\n",
    "def minCostPathTD(arr,mRows,nCols):\n",
    "    dp = [[sys.maxsize for j in range(nCols+1)] for i in range(mRows+1)]\n",
    "    \n",
    "    for i in range(1,mRows+1):\n",
    "        for j in range(nCols+1):\n",
    "            if i ==1 and j == 1:\n",
    "                dp[i][j] = arr[0][0]\n",
    "            else:\n",
    "                ans1 = dp[i-1][j]\n",
    "                ans2 = dp[i][j-1]\n",
    "                ans3 = dp[i-1][j-1]\n",
    "                dp[i][j] = arr[i-1][j-1] + min(ans1,ans2,ans3)\n",
    "    return dp[mRows-1][nCols-1]\n",
    "\n",
    "\n",
    "def minCostPathBU(arr,mRows,nCols):\n",
    "    dp = [[sys.maxsize for j in range(nCols+1)] for i in range(mRows+1)]\n",
    "    for i in range(mRows-1,-1,-1):\n",
    "        for j in range(nCols-1,-1,-1):\n",
    "            if i == mRows -1 and j == nCols -1:\n",
    "                dp[i][j] =  arr[i][j]\n",
    "            else:\n",
    "                ans1 = dp[i+1][j]\n",
    "                ans2 = dp[i][j+1]\n",
    "                ans3 = dp[i+1][j+1]\n",
    "                dp[i][j] = arr[i][j] + min(ans1,ans2,ans3) \n",
    "    return dp[0][0]\n",
    "\n",
    "nCols = 3\n",
    "mRows = 4\n",
    "arr = [[1,5,11],[8,13,12],[2,3,7],[15,16,18]]\n",
    "ans = minCostPath(arr,mRows,nCols)\n",
    "ans"
   ]
  },
  {
   "cell_type": "code",
   "execution_count": 5,
   "id": "e848082e",
   "metadata": {},
   "outputs": [
    {
     "data": {
      "text/plain": [
       "2"
      ]
     },
     "execution_count": 5,
     "metadata": {},
     "output_type": "execute_result"
    }
   ],
   "source": [
    "# Longest common subsequence Req\n",
    "def lcs(str1,str2,i,j,dp):\n",
    "    if i==len(str1) or j == len(str2):\n",
    "        return 0 \n",
    "    ans = 0\n",
    "    if str1[i] == str2[j]:\n",
    "        if dp[i+1][j+1] == -1:\n",
    "            smallans = lcs(str1, str2, i+1, j+1,dp)\n",
    "            dp[i+1][j+1] = smallans\n",
    "            ans = 1 + smallans\n",
    "        else:\n",
    "            ans = 1 + dp[i+1][j+1]\n",
    "    else:\n",
    "        if dp[i][j+1] == -1:\n",
    "            ans1 = lcs(str1,str2,i,j+1,dp)\n",
    "            dp[i][j+1] = ans1\n",
    "        else:\n",
    "            ans1 = dp[i][j+1]\n",
    "        if dp[i+1][j] == -1:\n",
    "            ans2 = lcs(str1,str2,i+1,j,dp)\n",
    "            dp[i+1][j] = ans2\n",
    "        else:\n",
    "            ans2 = dp[i+1][j]\n",
    "        ans = max(ans1,ans2)\n",
    "    return ans\n",
    "\n",
    "\n",
    "\n",
    "\n",
    "str1 = \"abedgjc\"\n",
    "str2 = \"bmdgsc\"\n",
    "mRows = len(str1)\n",
    "nCols = len(str2)\n",
    "dp = [[-1 for j in range(nCols+1)] for i in range(mRows+1)]\n",
    "ans = lcs(str1,str2,0,0,dp)\n",
    "ans"
   ]
  }
 ],
 "metadata": {
  "kernelspec": {
   "display_name": "Python 3 (ipykernel)",
   "language": "python",
   "name": "python3"
  },
  "language_info": {
   "codemirror_mode": {
    "name": "ipython",
    "version": 3
   },
   "file_extension": ".py",
   "mimetype": "text/x-python",
   "name": "python",
   "nbconvert_exporter": "python",
   "pygments_lexer": "ipython3",
   "version": "3.9.7"
  }
 },
 "nbformat": 4,
 "nbformat_minor": 5
}
