{
 "cells": [
  {
   "cell_type": "code",
   "execution_count": null,
   "id": "41c796db",
   "metadata": {},
   "outputs": [],
   "source": [
    "# recursive approach\n",
    "def lcs(str1,str2,i,j):\n",
    "    if i == len(str1) or j ==  len(str2):\n",
    "        return 0\n",
    "    if str1[i] == str2[j]:\n",
    "        ans = 1 + lcs(str1,str2,i+1,j+1)\n",
    "    else:\n",
    "        ans1 = lcs(str1,str2,i+1,j)\n",
    "        ans2 = lcs(str1,str2,i,j+1)\n",
    "        ans = max(ans1,ans2)\n",
    "    return ans\n",
    "\n",
    "\n",
    "str1 = \"abedgjc\"\n",
    "str2 = \"bmdgsc\"\n",
    "ans = lcs(str1,str2,0,0)\n",
    "ans"
   ]
  },
  {
   "cell_type": "code",
   "execution_count": null,
   "id": "2effa6b4",
   "metadata": {},
   "outputs": [],
   "source": [
    "# Longest common subsequence Req \n",
    "# memoization\n",
    "def lcs(str1,str2,i,j,dp):\n",
    "    if i==len(str1) or j == len(str2):\n",
    "        return 0 \n",
    "#     ans = 0 (not required)\n",
    "    if str1[i] == str2[j]:\n",
    "        if dp[i+1][j+1] == -1:\n",
    "            smallans = lcs(str1, str2, i+1, j+1,dp)\n",
    "            dp[i+1][j+1] = smallans\n",
    "            ans = 1 + smallans\n",
    "        else:\n",
    "            ans = 1 + dp[i+1][j+1]\n",
    "    else:\n",
    "        if dp[i][j+1] == -1:\n",
    "            ans1 = lcs(str1,str2,i,j+1,dp)\n",
    "            dp[i][j+1] = ans1\n",
    "        else:\n",
    "            ans1 = dp[i][j+1]\n",
    "        if dp[i+1][j] == -1:\n",
    "            ans2 = lcs(str1,str2,i+1,j,dp)\n",
    "            dp[i+1][j] = ans2\n",
    "        else:\n",
    "            ans2 = dp[i+1][j]\n",
    "        ans = max(ans1,ans2)\n",
    "    return ans\n",
    "\n",
    "\n",
    "\n",
    "\n",
    "str1 = \"abedgjc\"\n",
    "str2 = \"bmdgsc\"\n",
    "mRows = len(str1)\n",
    "nCols = len(str2)\n",
    "dp = [[-1 for j in range(nCols+1)] for i in range(mRows+1)]\n",
    "ans = lcs(str1,str2,0,0,dp)\n",
    "ans"
   ]
  },
  {
   "cell_type": "code",
   "execution_count": 1,
   "id": "c51b7ab9",
   "metadata": {},
   "outputs": [
    {
     "data": {
      "text/plain": [
       "[[4, 3, 3, 2, 1, 1, 0],\n",
       " [4, 3, 3, 2, 1, 1, 0],\n",
       " [3, 3, 3, 2, 1, 1, 0],\n",
       " [3, 3, 3, 2, 1, 1, 0],\n",
       " [2, 2, 2, 2, 1, 1, 0],\n",
       " [1, 1, 1, 1, 1, 1, 0],\n",
       " [1, 1, 1, 1, 1, 1, 0],\n",
       " [0, 0, 0, 0, 0, 0, 0]]"
      ]
     },
     "execution_count": 1,
     "metadata": {},
     "output_type": "execute_result"
    }
   ],
   "source": [
    "# iterative approach\n",
    "# bottom-up approach\n",
    "\n",
    "def lcs(str1,str2):\n",
    "    mRows = len(str1)\n",
    "    nCols = len(str2)\n",
    "    dp = [[0 for j in range(nCols+1)] for i in range(mRows+1)]\n",
    "    for i in range(mRows-1,-1,-1):\n",
    "        for j in range(nCols-1,-1,-1):\n",
    "            if str1[i] == str2[j]:\n",
    "                dp[i][j] = 1 + dp[i+1][j+1]\n",
    "            else:\n",
    "                ans1 = dp[i+1][j]\n",
    "                ans2 = dp[i][j+1]\n",
    "                dp[i][j] = max(ans1,ans2)\n",
    "    return dp\n",
    "            \n",
    "\n",
    "str1 = \"abedgjc\"\n",
    "str2 = \"bmdgsc\"\n",
    "mRows = len(str1)\n",
    "nCols = len(str2)\n",
    "ans = lcs(str1,str2)\n",
    "ans"
   ]
  }
 ],
 "metadata": {
  "kernelspec": {
   "display_name": "Python 3 (ipykernel)",
   "language": "python",
   "name": "python3"
  },
  "language_info": {
   "codemirror_mode": {
    "name": "ipython",
    "version": 3
   },
   "file_extension": ".py",
   "mimetype": "text/x-python",
   "name": "python",
   "nbconvert_exporter": "python",
   "pygments_lexer": "ipython3",
   "version": "3.9.7"
  }
 },
 "nbformat": 4,
 "nbformat_minor": 5
}
