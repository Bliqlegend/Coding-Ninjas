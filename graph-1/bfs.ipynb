{
 "cells": [
  {
   "cell_type": "code",
   "execution_count": 5,
   "id": "4edaed25",
   "metadata": {},
   "outputs": [
    {
     "name": "stdout",
     "output_type": "stream",
     "text": [
      "4 4\n",
      "0 1\n",
      "0 3\n",
      "1 2\n",
      "2 3\n",
      "0 1 3 2 "
     ]
    }
   ],
   "source": [
    "import queue\n",
    "\n",
    "class Graph:\n",
    "    def __init__(self,n,ne):\n",
    "        self.n = n\n",
    "        self.ne = ne\n",
    "        self.adjMatrix = [[0 for j in range(n)] for i in range(n)]\n",
    "    \n",
    "    def addEdge(self,v1,v2):\n",
    "        self.adjMatrix[v1][v2] =1\n",
    "        self.adjMatrix[v2][v1] = 1\n",
    "    \n",
    "    def bfsHelper(self,sv,visited):\n",
    "        q = queue.Queue()\n",
    "        q.put(sv)\n",
    "        visited[sv] = True\n",
    "        while q.empty() is False:\n",
    "            u = q.get()\n",
    "            print(u,end=' ')\n",
    "            for i in range(self.n):\n",
    "                if self.adjMatrix[u][i] > 0 and visited[i] is False:\n",
    "                    q.put(i)\n",
    "                    visited[i] = True\n",
    "    \n",
    "    def bfs(self):\n",
    "        visited = [False for i in range(self.n)]\n",
    "        for i in range(self.n):\n",
    "            if visited[i] == False:\n",
    "                self.bfsHelper(i,visited)\n",
    "                visited[i] = True\n",
    "        \n",
    "        \n",
    "    def containsEdge(self,v1,v2):\n",
    "        return True if self.adjMatrix[v1][v2] > 0 else False\n",
    "    \n",
    "    def removeEdge(self,v1,v2):\n",
    "        if self.containsEdge(v1,v2) is False:\n",
    "            return\n",
    "        self.adjMatrix[v1][v2] = 0\n",
    "        self.adjMatrix[v2][v2] = 0\n",
    "        \n",
    "    def __str__(self):\n",
    "        return str(self.adjMatrix)\n",
    "\n",
    "def takeInput():\n",
    "    ele = []\n",
    "    ele = [int(element) for element in list(input().strip().split(\" \"))]\n",
    "    nv = ele[0]\n",
    "    ne = ele[1]\n",
    "    arr = [[0 for i in range(ne)] for i in range(ne)]\n",
    "    idx = 0\n",
    "    ele = []\n",
    "    for i in range(ne):\n",
    "        if idx > ne-1:\n",
    "            break\n",
    "        ele = [int(element) for element in list(input().strip().split(\" \"))]\n",
    "        arr[idx] = ele\n",
    "        idx+=1\n",
    "    return nv,ne,arr\n",
    "\n",
    "\n",
    "nv,ne,arr = takeInput()\n",
    "g = Graph(nv,ne)\n",
    "i= 0\n",
    "j= 0\n",
    "while i < nv and j < ne:\n",
    "    g.addEdge(arr[i][0],arr[i][1])\n",
    "    i+=1\n",
    "    j+=1\n",
    "g.bfs()"
   ]
  }
 ],
 "metadata": {
  "kernelspec": {
   "display_name": "Python 3 (ipykernel)",
   "language": "python",
   "name": "python3"
  },
  "language_info": {
   "codemirror_mode": {
    "name": "ipython",
    "version": 3
   },
   "file_extension": ".py",
   "mimetype": "text/x-python",
   "name": "python",
   "nbconvert_exporter": "python",
   "pygments_lexer": "ipython3",
   "version": "3.9.7"
  }
 },
 "nbformat": 4,
 "nbformat_minor": 5
}
