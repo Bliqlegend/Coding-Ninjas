{
 "cells": [
  {
   "cell_type": "code",
   "execution_count": null,
   "id": "eaed862b",
   "metadata": {},
   "outputs": [],
   "source": [
    "class PriorityQueueNode:\n",
    "    def __init__(self,value,priority):\n",
    "        self.value = value\n",
    "        self.priority = priority\n",
    "\n",
    "class PriorityQueue:\n",
    "    def __init__(self):\n",
    "        self.pq = []\n",
    "        \n",
    "    def getSize(self):\n",
    "        return len(self.pq)\n",
    "    \n",
    "    def isEmpty(self):\n",
    "        return self.getSize() == 0\n",
    "    \n",
    "    def getMin(self):\n",
    "        if self.isEmpty() is True:\n",
    "            return None\n",
    "        return self.pq[0].value\n",
    "    \n",
    "    def __percolateUp(self):\n",
    "        childIndex = self.getSize() -1\n",
    "        while childIndex > 0: \n",
    "            parentIndex = (childIndex -1) // 2\n",
    "            if self.pq[childIndex].priority < self.pq[parentIndex].priority:\n",
    "                self.pq[childIndex],self.pq[parentIndex] = self.pq[parentIndex],self.pq[childIndex]\n",
    "                childIndex = parentIndex\n",
    "            else:\n",
    "                break\n",
    "    def __percolateDown(self):\n",
    "        parentIndex = 0\n",
    "        leftChildIndex = 2*parentIndex+1\n",
    "        rightChildIndex = 2*parentIndex+2\n",
    "        while leftChildIndex < self.getSize():\n",
    "            minIndex = parentIndex\n",
    "            if self.pq[minIndex].priority > self.pq[leftChildIndex].priority:\n",
    "                minIndex = leftChildIndex\n",
    "            if rightChildIndex < self.getSize() and self.pq[minIndex].priority > self.pq[rightChildIndex]:\n",
    "                minIndex = rightChildIndex\n",
    "            if minIndex == parentIndex:\n",
    "                break\n",
    "            self.pq[parentIndex],self.pq[minIndex] = self.pq[minIndex],self.pq[parentIndex]\n",
    "            parentIndex = minIndex\n",
    "            leftChildIndex = 2*parentIndex+1\n",
    "            rightChildIndex = 2*parentIndex+2\n",
    "        \n",
    "                \n",
    "    def insert(self,value,priority):\n",
    "        pqNode = PriorityQueueNode(value,priority)\n",
    "        self.pq.append(pqNode)\n",
    "        self.__percolateUp()\n",
    "        \n",
    "    def removeMin(self):\n",
    "        if self.isEmpty():\n",
    "            return None\n",
    "        ele = self.pq[0].value\n",
    "        self.pq[0] = self.pq[self.getSize()-1]\n",
    "        self.pq.pop()\n",
    "        self.__percolateDown()\n",
    "        return ele\n",
    "        "
   ]
  },
  {
   "cell_type": "code",
   "execution_count": null,
   "id": "43700cd7",
   "metadata": {},
   "outputs": [],
   "source": [
    "class PriorityQueueNode:\n",
    "    def __init__(self,value,priority):\n",
    "        self.value = value\n",
    "        self.priority = priority\n",
    "        \n",
    "class PriorityQueue:\n",
    "    def __init__(self):\n",
    "        self.pq = []\n",
    "        \n",
    "    def isEmpty(self):\n",
    "        return self.getSize() == 0\n",
    "    def getSize(self):\n",
    "        return len(self.pq)\n",
    "\n",
    "    def getMax(self):\n",
    "        if isEmpty():\n",
    "            return None\n",
    "        return self.pq[0].value\n",
    "        def __percolateDown(self):\n",
    "        parentIndex = 0\n",
    "        leftChildIndex = 2*parentIndex+1\n",
    "        rightChildIndex = 2*parentIndex+2\n",
    "        while leftChildIndex < self.getSize():\n",
    "            minIndex = parentIndex\n",
    "            if self.pq[minIndex].priority < self.pq[leftChildIndex].priority:\n",
    "                minIndex = leftChildIndex\n",
    "            if rightChildIndex < self.getSize() and self.pq[minIndex].priority < self.pq[rightChildIndex]:\n",
    "                minIndex = rightChildIndex\n",
    "            if minIndex == parentIndex:\n",
    "                break\n",
    "            self.pq[parentIndex],self.pq[minIndex] = self.pq[minIndex],self.pq[parentIndex]\n",
    "            parentIndex = minIndex\n",
    "            leftChildIndex = 2*parentIndex+1\n",
    "            rightChildIndex = 2*parentIndex+2\n",
    "            \n",
    "    def __percolateUp(self):\n",
    "        childIndex = self.getSize() -1\n",
    "        while childIndex > 0: \n",
    "            parentIndex = (childIndex -1) // 2\n",
    "            if self.pq[childIndex].priority < self.pq[parentIndex].priority:\n",
    "                self.pq[childIndex],self.pq[parentIndex] = self.pq[parentIndex],self.pq[childIndex]\n",
    "                childIndex = parentIndex\n",
    "            else:\n",
    "                break\n",
    "        \n",
    "    def insert(self,value,priority):\n",
    "        pqNode = PriorityQueueNode(value,priority)\n",
    "        self.pq.append(pqNode)\n",
    "        self.__percolateUp\n",
    "        \n",
    "    def removeMax(self):\n",
    "        if self.isEmpty():\n",
    "            return None\n",
    "        ele = self.pq[0].value\n",
    "        self.pq[0] = self.pq[self.getSize()-1]\n",
    "        self.pq.pop()\n",
    "        self.__percolateDown()\n",
    "        return ele"
   ]
  },
  {
   "cell_type": "code",
   "execution_count": null,
   "id": "234a5942",
   "metadata": {},
   "outputs": [],
   "source": [
    "def heapify(arr,n,i):\n",
    "    largest = i\n",
    "    l = 2 * i + 1\n",
    "    r = 2 * i + 2\n",
    "    if l < n and arr[largest] < arr[l]:\n",
    "        largest = l\n",
    "    if r < n and arr[largest] < arr[r]:\n",
    "        largest = r\n",
    "    if largest != i:\n",
    "        arr[i],arr[largest] = arr[largest],arr[i]\n",
    "        \n",
    "        heapify(arr,n,largest)\n",
    "    \n",
    "def heapSort(arr):\n",
    "    n = len(arr)\n",
    "    \n",
    "    for i in range(n//2 -1,-1,-1):\n",
    "        heapify(arr,n,i)\n",
    "    for i in range(n-1,0,-1):\n",
    "        arr[i],arr[0] = arr[0],arr[i]\n",
    "        heapify(arr,i,0)"
   ]
  },
  {
   "cell_type": "code",
   "execution_count": null,
   "id": "124694d1",
   "metadata": {},
   "outputs": [],
   "source": [
    "import heapq\n",
    "def kSmallest(lst, k):\n",
    "    heap = lst[:k]\n",
    "    heapq._heapify_max(heap)\n",
    "    for i in range(k,len(lst)):\n",
    "        if heap[0] > lst[i]:\n",
    "            heapq._heapreplace_max(heap,lst[i])\n",
    "    return heap\n",
    "    "
   ]
  },
  {
   "cell_type": "code",
   "execution_count": 3,
   "id": "fd3a15c5",
   "metadata": {},
   "outputs": [
    {
     "name": "stdout",
     "output_type": "stream",
     "text": [
      "[16, 12, 9, 2, 10, 5, 3]\n",
      "[12, 10, 9, 2, 3, 5]\n"
     ]
    }
   ],
   "source": [
    "import heapq\n",
    "heap = [2,12,9,16,10,5,3]\n",
    "lst = heap\n",
    "heapq._heapify_max(lst)\n",
    "print(heap)\n",
    "heapq._heappop_max(heap)\n",
    "print(heap)\n"
   ]
  },
  {
   "cell_type": "code",
   "execution_count": null,
   "id": "fdbb2f83",
   "metadata": {},
   "outputs": [],
   "source": [
    "import heapq\n",
    "def kLargest(lst, k):\n",
    "    l = []\n",
    "    heapq._heapify_max(lst)\n",
    "    while k > 0:\n",
    "        ele = heapq._heappop_max(lst)\n",
    "        l.append(ele)\n",
    "        k-=1\n",
    "    return l"
   ]
  },
  {
   "cell_type": "code",
   "execution_count": 2,
   "id": "b21e3333",
   "metadata": {},
   "outputs": [
    {
     "name": "stdout",
     "output_type": "stream",
     "text": [
      "heap :  [94, 92, 9, 1, 32, 3, 8]\n",
      "list :  [1, 32, 8, 92, 94, 3, 9]\n"
     ]
    },
    {
     "data": {
      "text/plain": [
       "False"
      ]
     },
     "execution_count": 2,
     "metadata": {},
     "output_type": "execute_result"
    }
   ],
   "source": [
    "import heapq\n",
    "def checkMaxHeap(lst):\n",
    "    heap = list(lst)\n",
    "    heapq._heapify_max(heap)\n",
    "    if heap == lst:\n",
    "        return True\n",
    "    else:\n",
    "        return False\n",
    "    \n",
    "a = [1 ,32, 8 ,92 ,94, 3 ,9]\n",
    "checkMaxHeap(a)"
   ]
  },
  {
   "cell_type": "code",
   "execution_count": null,
   "id": "540c21a8",
   "metadata": {},
   "outputs": [],
   "source": [
    "def checkMaxHeap(lst):\n",
    "    n = len(lst)\n",
    "    for i in range(n):\n",
    "        left = 2*i + 1\n",
    "        right = 2*i + 2\n",
    "        if left < n and lst[left] > lst[i]:\n",
    "            return False\n",
    "        if right < n and lst[right] > lst[i]:\n",
    "            return False\n",
    "        return True"
   ]
  },
  {
   "cell_type": "code",
   "execution_count": null,
   "id": "783d07e7",
   "metadata": {},
   "outputs": [],
   "source": [
    "import heapq\n",
    "def kthLargest(lst, k):\n",
    "    heapq._heapify_max(lst)\n",
    "    while k > 0:\n",
    "        ele = heapq._heappop_max(lst)\n",
    "        k-=1\n",
    "    return ele"
   ]
  }
 ],
 "metadata": {
  "kernelspec": {
   "display_name": "Python 3",
   "language": "python",
   "name": "python3"
  },
  "language_info": {
   "codemirror_mode": {
    "name": "ipython",
    "version": 3
   },
   "file_extension": ".py",
   "mimetype": "text/x-python",
   "name": "python",
   "nbconvert_exporter": "python",
   "pygments_lexer": "ipython3",
   "version": "3.8.8"
  }
 },
 "nbformat": 4,
 "nbformat_minor": 5
}
