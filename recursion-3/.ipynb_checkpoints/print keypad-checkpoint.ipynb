{
 "cells": [
  {
   "cell_type": "code",
   "execution_count": null,
   "id": "4ed6138d",
   "metadata": {},
   "outputs": [],
   "source": [
    "def keypad(s,o):\n",
    "    k = {2:\"abc\",\n",
    "     3:\"def\",\n",
    "     4:\"ghi\",\n",
    "     5:\"jkl\",\n",
    "     6:\"mno\",\n",
    "     7:\"pqrs\",\n",
    "     8:\"tuv\",\n",
    "     9:\"wxyz\"}\n",
    "    \n",
    "    if n == 0:\n",
    "        print(o)\n",
    "        return\n",
    "    \n",
    "    sn = n//10\n",
    "    ld = n%10\n",
    "    options = k[ld]\n",
    "    \n",
    "    for c in options:\n",
    "        no = c + o\n",
    "        keypad(sn,no)\n",
    "        \n",
    "    \n",
    "n = 234\n",
    "o = \"\"\n",
    "keypad(n,o)\n"
   ]
  },
  {
   "cell_type": "code",
   "execution_count": null,
   "id": "d785909a",
   "metadata": {},
   "outputs": [],
   "source": []
  }
 ],
 "metadata": {
  "kernelspec": {
   "display_name": "Python 3 (ipykernel)",
   "language": "python",
   "name": "python3"
  },
  "language_info": {
   "codemirror_mode": {
    "name": "ipython",
    "version": 3
   },
   "file_extension": ".py",
   "mimetype": "text/x-python",
   "name": "python",
   "nbconvert_exporter": "python",
   "pygments_lexer": "ipython3",
   "version": "3.9.7"
  }
 },
 "nbformat": 4,
 "nbformat_minor": 5
}
