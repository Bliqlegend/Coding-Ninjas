{
 "cells": [
  {
   "cell_type": "code",
   "execution_count": null,
   "id": "b75c19c8",
   "metadata": {},
   "outputs": [],
   "source": [
    "def printperm(s,asf):\n",
    "    if len(s) == 0:\n",
    "        print(asf)\n",
    "        return\n",
    "    \n",
    "    for val in range(len(s)):\n",
    "        ch = s[val]\n",
    "        left = s[:val]\n",
    "        right = s[val+1:]\n",
    "        roq = left + right\n",
    "        printperm(roq,asf+ch)\n",
    "\n",
    "    \n",
    "string = \"abc\"\n",
    "ans = perm(string,\"\")\n",
    "ans"
   ]
  }
 ],
 "metadata": {
  "kernelspec": {
   "display_name": "Python 3 (ipykernel)",
   "language": "python",
   "name": "python3"
  },
  "language_info": {
   "codemirror_mode": {
    "name": "ipython",
    "version": 3
   },
   "file_extension": ".py",
   "mimetype": "text/x-python",
   "name": "python",
   "nbconvert_exporter": "python",
   "pygments_lexer": "ipython3",
   "version": "3.9.7"
  }
 },
 "nbformat": 4,
 "nbformat_minor": 5
}
