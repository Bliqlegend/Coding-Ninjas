{
 "cells": [
  {
   "cell_type": "code",
   "execution_count": null,
   "id": "dbe70036",
   "metadata": {},
   "outputs": [],
   "source": [
    "def subset(arr,asf):\n",
    "    o = subset(arr[:n-1])\n",
    "    outputLen = len(arr)\n",
    "    for i in range(outputLen):\n",
    "        output.append(output[i].copy())\n",
    "        "
   ]
  }
 ],
 "metadata": {
  "kernelspec": {
   "display_name": "Python 3 (ipykernel)",
   "language": "python",
   "name": "python3"
  },
  "language_info": {
   "codemirror_mode": {
    "name": "ipython",
    "version": 3
   },
   "file_extension": ".py",
   "mimetype": "text/x-python",
   "name": "python",
   "nbconvert_exporter": "python",
   "pygments_lexer": "ipython3",
   "version": "3.9.7"
  }
 },
 "nbformat": 4,
 "nbformat_minor": 5
}
