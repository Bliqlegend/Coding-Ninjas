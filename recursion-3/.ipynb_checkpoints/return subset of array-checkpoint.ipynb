{
 "cells": [
  {
   "cell_type": "code",
   "execution_count": 8,
   "id": "35b7a66a",
   "metadata": {},
   "outputs": [
    {
     "data": {
      "text/plain": [
       "[]"
      ]
     },
     "execution_count": 8,
     "metadata": {},
     "output_type": "execute_result"
    }
   ],
   "source": [
    "def sarr(arr):\n",
    "    if len(arr) == 0:\n",
    "        return []\n",
    "    idx = arr[0]\n",
    "    so = sarr(arr[1:])\n",
    "    o = []\n",
    "    for i in range(len(so)):\n",
    "        o.append(so[i])\n",
    "    for i in range(len(so)):\n",
    "        o[i].append(idx)\n",
    "    return o\n",
    "\n",
    "arr = [15,20,12]\n",
    "n = len(arr)\n",
    "o = sarr(arr)\n",
    "o\n",
    "    "
   ]
  },
  {
   "cell_type": "code",
   "execution_count": 4,
   "id": "028d1ce6",
   "metadata": {
    "scrolled": true
   },
   "outputs": [
    {
     "data": {
      "text/plain": [
       "[[3], [3, 3], [2, 3]]"
      ]
     },
     "execution_count": 4,
     "metadata": {},
     "output_type": "execute_result"
    }
   ],
   "source": [
    "arr = [[],[3],[2]]\n",
    "for i in range(len(arr)):\n",
    "    arr[i].append(3)\n",
    "arr"
   ]
  }
 ],
 "metadata": {
  "kernelspec": {
   "display_name": "Python 3 (ipykernel)",
   "language": "python",
   "name": "python3"
  },
  "language_info": {
   "codemirror_mode": {
    "name": "ipython",
    "version": 3
   },
   "file_extension": ".py",
   "mimetype": "text/x-python",
   "name": "python",
   "nbconvert_exporter": "python",
   "pygments_lexer": "ipython3",
   "version": "3.9.7"
  }
 },
 "nbformat": 4,
 "nbformat_minor": 5
}
