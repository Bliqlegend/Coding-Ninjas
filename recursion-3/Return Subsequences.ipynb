{
 "cells": [
  {
   "cell_type": "code",
   "execution_count": 3,
   "id": "f773f532",
   "metadata": {
    "scrolled": true
   },
   "outputs": [
    {
     "name": "stdout",
     "output_type": "stream",
     "text": [
      "\n",
      "c\n",
      "b\n",
      "bc\n",
      "a\n",
      "ac\n",
      "ab\n",
      "abc\n"
     ]
    }
   ],
   "source": [
    "def ss(str1):\n",
    "    # base case\n",
    "    if len(str1) == 0:\n",
    "        arr = []\n",
    "        arr.append(\"\")\n",
    "        return arr\n",
    "    so = ss(str1[1:])\n",
    "    arr = []\n",
    "    for s in so:\n",
    "        arr.append(s)\n",
    "    for s in so:\n",
    "        arr.append(str1[0] + s)\n",
    "    return arr\n",
    " \n",
    "string = \"abc\"\n",
    "ans = ss(string)\n",
    "for ele in ans:\n",
    "    print(ele)"
   ]
  },
  {
   "cell_type": "code",
   "execution_count": null,
   "id": "4837189d",
   "metadata": {},
   "outputs": [],
   "source": []
  },
  {
   "cell_type": "code",
   "execution_count": null,
   "id": "0c53c879",
   "metadata": {},
   "outputs": [],
   "source": []
  }
 ],
 "metadata": {
  "kernelspec": {
   "display_name": "Python 3 (ipykernel)",
   "language": "python",
   "name": "python3"
  },
  "language_info": {
   "codemirror_mode": {
    "name": "ipython",
    "version": 3
   },
   "file_extension": ".py",
   "mimetype": "text/x-python",
   "name": "python",
   "nbconvert_exporter": "python",
   "pygments_lexer": "ipython3",
   "version": "3.9.7"
  }
 },
 "nbformat": 4,
 "nbformat_minor": 5
}
