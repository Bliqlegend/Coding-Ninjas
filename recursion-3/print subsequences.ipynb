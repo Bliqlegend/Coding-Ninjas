{
 "cells": [
  {
   "cell_type": "code",
   "execution_count": 12,
   "id": "8e9bf281",
   "metadata": {},
   "outputs": [
    {
     "name": "stdout",
     "output_type": "stream",
     "text": [
      "\n",
      "c\n",
      "b\n",
      "bc\n",
      "a\n",
      "ac\n",
      "ab\n",
      "abc\n"
     ]
    }
   ],
   "source": [
    "def sub(s,o):\n",
    "    if len(s)==0:\n",
    "        print(o)\n",
    "        return\n",
    "    \n",
    "    sub(s[1:],o)\n",
    "    newO = o + s[0]\n",
    "    sub(s[1:],newO)\n",
    "        \n",
    "s = \"abc\"\n",
    "o = \"\"\n",
    "ans = sub(s,o)\n",
    "ans"
   ]
  }
 ],
 "metadata": {
  "kernelspec": {
   "display_name": "Python 3 (ipykernel)",
   "language": "python",
   "name": "python3"
  },
  "language_info": {
   "codemirror_mode": {
    "name": "ipython",
    "version": 3
   },
   "file_extension": ".py",
   "mimetype": "text/x-python",
   "name": "python",
   "nbconvert_exporter": "python",
   "pygments_lexer": "ipython3",
   "version": "3.9.7"
  }
 },
 "nbformat": 4,
 "nbformat_minor": 5
}
