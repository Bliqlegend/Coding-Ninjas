{
 "cells": [
  {
   "cell_type": "code",
   "execution_count": 17,
   "id": "dbe70036",
   "metadata": {},
   "outputs": [
    {
     "name": "stdout",
     "output_type": "stream",
     "text": [
      " \n",
      " 12 \n",
      " 20 \n",
      " 20 12 \n",
      " 15 \n",
      " 15 12 \n",
      " 15 20 \n",
      " 15 20 12 \n"
     ]
    }
   ],
   "source": [
    "def subset(arr,se):\n",
    "    if len(arr) == 0:\n",
    "        print(se)\n",
    "        return \n",
    "    \n",
    "    subset(arr[1:],se)\n",
    "    subset(arr[1:],se + str(arr[0]) + \" \")\n",
    "    \n",
    "\n",
    "arr = [15,20,12]\n",
    "subset(arr,\" \")"
   ]
  },
  {
   "cell_type": "code",
   "execution_count": null,
   "id": "2acf8ef3",
   "metadata": {},
   "outputs": [],
   "source": [
    "# bitmasking trial\n",
    "\n",
    "def sub(arr):\n",
    "    sub = pow(2,n)\n",
    "    for i in range()\n",
    "\n",
    "def takeInput() :\n",
    "    n = int(input().strip())\n",
    "\n",
    "    if n == 0 :\n",
    "        return list(), 0\n",
    "\n",
    "    arr = [int(element) for element in list(input().strip().split(\" \"))]\n",
    "    return arr, n\n",
    "\n",
    "arr,n = takeInput()\n"
   ]
  }
 ],
 "metadata": {
  "kernelspec": {
   "display_name": "Python 3 (ipykernel)",
   "language": "python",
   "name": "python3"
  },
  "language_info": {
   "codemirror_mode": {
    "name": "ipython",
    "version": 3
   },
   "file_extension": ".py",
   "mimetype": "text/x-python",
   "name": "python",
   "nbconvert_exporter": "python",
   "pygments_lexer": "ipython3",
   "version": "3.9.7"
  }
 },
 "nbformat": 4,
 "nbformat_minor": 5
}
