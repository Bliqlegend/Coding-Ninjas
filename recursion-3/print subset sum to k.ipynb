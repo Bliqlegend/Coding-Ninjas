{
 "cells": [
  {
   "cell_type": "code",
   "execution_count": 6,
   "id": "ac2b8395",
   "metadata": {},
   "outputs": [
    {
     "name": "stdout",
     "output_type": "stream",
     "text": [
      "6\n",
      "17 18 6 11 2 4 \n",
      "6\n",
      "6 \n",
      "2 4 \n"
     ]
    }
   ],
   "source": [
    "def tsk(arr,idx,se,sos,k):\n",
    "    if idx == len(arr):\n",
    "        if sos==k:\n",
    "            print(se)\n",
    "            return\n",
    "        else:\n",
    "            return\n",
    "        \n",
    "    tsk(arr,idx+1,se +str(arr[idx]) + \" \",sos+arr[idx],k)\n",
    "    tsk(arr,idx+1,se,sos,k)\n",
    "    \n",
    "def takeInput() :\n",
    "    n = int(input().strip())\n",
    "\n",
    "    if n == 0 :\n",
    "        return list(), 0\n",
    "\n",
    "    arr = [int(element) for element in list(input().strip().split(\" \"))]\n",
    "    k = int(input())\n",
    "    return arr, n ,k\n",
    "\n",
    "arr,n,k = takeInput()    \n",
    "tsk(arr,0,\"\",0,k)"
   ]
  }
 ],
 "metadata": {
  "kernelspec": {
   "display_name": "Python 3 (ipykernel)",
   "language": "python",
   "name": "python3"
  },
  "language_info": {
   "codemirror_mode": {
    "name": "ipython",
    "version": 3
   },
   "file_extension": ".py",
   "mimetype": "text/x-python",
   "name": "python",
   "nbconvert_exporter": "python",
   "pygments_lexer": "ipython3",
   "version": "3.9.7"
  }
 },
 "nbformat": 4,
 "nbformat_minor": 5
}
