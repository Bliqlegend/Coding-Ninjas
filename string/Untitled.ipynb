{
 "cells": [
  {
   "cell_type": "code",
   "execution_count": 3,
   "id": "d992af27",
   "metadata": {},
   "outputs": [
    {
     "data": {
      "text/plain": [
       "True"
      ]
     },
     "execution_count": 3,
     "metadata": {},
     "output_type": "execute_result"
    }
   ],
   "source": [
    "def isAnagram(s: str, t: str):\n",
    "    if ''.join(sorted(s)) == ''.join(sorted(t)):\n",
    "        return True\n",
    "    return False\n",
    "\n",
    "s1 = \"anagram\"\n",
    "s2 = \"nagaram\"\n",
    "isAnagram(s1,s2)"
   ]
  },
  {
   "cell_type": "code",
   "execution_count": 4,
   "id": "90e6993a",
   "metadata": {},
   "outputs": [
    {
     "data": {
      "text/plain": [
       "'cba'"
      ]
     },
     "execution_count": 4,
     "metadata": {},
     "output_type": "execute_result"
    }
   ],
   "source": [
    "s = \"cbaebab\"\n",
    "s[:3]"
   ]
  }
 ],
 "metadata": {
  "kernelspec": {
   "display_name": "Python 3 (ipykernel)",
   "language": "python",
   "name": "python3"
  },
  "language_info": {
   "codemirror_mode": {
    "name": "ipython",
    "version": 3
   },
   "file_extension": ".py",
   "mimetype": "text/x-python",
   "name": "python",
   "nbconvert_exporter": "python",
   "pygments_lexer": "ipython3",
   "version": "3.9.7"
  }
 },
 "nbformat": 4,
 "nbformat_minor": 5
}
